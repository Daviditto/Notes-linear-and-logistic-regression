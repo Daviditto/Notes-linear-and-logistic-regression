{
 "cells": [
  {
   "cell_type": "markdown",
   "id": "2f296d98-7e68-4f00-bcd0-d8d2439d7d1f",
   "metadata": {},
   "source": [
    "# In Depth Linear Regression"
   ]
  },
  {
   "cell_type": "markdown",
   "id": "66dbdc87-5d87-4832-8cb8-db32fb537e52",
   "metadata": {},
   "source": [
    "# first round"
   ]
  },
  {
   "cell_type": "code",
   "execution_count": 4,
   "id": "25418b8e-951b-449b-abb0-deb0dbd1ef05",
   "metadata": {},
   "outputs": [],
   "source": [
    "from matplotlib import pyplot as plt\n",
    "import numpy as np\n",
    "import pandas as pd\n",
    "%matplotlib inline\n",
    "import seaborn as sns"
   ]
  },
  {
   "cell_type": "code",
   "execution_count": 5,
   "id": "18e60ef3-14b5-4bf8-b336-10d7ff73a5cb",
   "metadata": {},
   "outputs": [],
   "source": [
    "x = 10*np.random.rand(50)\n",
    "y = 2*x - 5 +np.random.rand(50)"
   ]
  },
  {
   "cell_type": "code",
   "execution_count": 6,
   "id": "62342c55-ed28-4264-b251-aea753fa2e2a",
   "metadata": {},
   "outputs": [
    {
     "data": {
      "text/plain": [
       "(-0.03998653186488221,\n",
       " 10.251178765839027,\n",
       " -4.8069707090340525,\n",
       " 15.66830563572503)"
      ]
     },
     "execution_count": 6,
     "metadata": {},
     "output_type": "execute_result"
    },
    {
     "data": {
      "image/png": "[encoded data removed]",
      "text/plain": [
       "<Figure size 432x288 with 1 Axes>"
      ]
     },
     "metadata": {
      "needs_background": "light"
     },
     "output_type": "display_data"
    }
   ],
   "source": [
    "plt.scatter(x, y, facecolor='red')\n",
    "plt.axis('tight')"
   ]
  },
  {
   "cell_type": "code",
   "execution_count": 7,
   "id": "1dc02dae-baaa-48a0-8370-8f7d76bab5c9",
   "metadata": {},
   "outputs": [],
   "source": [
    "from sklearn.linear_model import LinearRegression"
   ]
  },
  {
   "cell_type": "code",
   "execution_count": 8,
   "id": "2b182932-3bdb-49d7-b70a-006374722233",
   "metadata": {},
   "outputs": [],
   "source": [
    "model = LinearRegression(fit_intercept=True)\n",
    "x_test = np.linspace(0,10, 1000)"
   ]
  },
  {
   "cell_type": "code",
   "execution_count": 9,
   "id": "690a07a7-2fd1-4ec8-b296-290ca16db048",
   "metadata": {},
   "outputs": [],
   "source": [
    "y_model = model.fit(x[:, None], y).predict(x_test[:, None])"
   ]
  },
  {
   "cell_type": "code",
   "execution_count": 10,
   "id": "d55234f0-983e-44b6-8c93-733aa9aa90a1",
   "metadata": {},
   "outputs": [
    {
     "data": {
      "text/plain": [
       "[<matplotlib.lines.Line2D at 0x7f8eae8e08e0>]"
      ]
     },
     "execution_count": 10,
     "metadata": {},
     "output_type": "execute_result"
    },
    {
     "data": {
      "image/png": "[encoded data removed]",
      "text/plain": [
       "<Figure size 432x288 with 1 Axes>"
      ]
     },
     "metadata": {
      "needs_background": "light"
     },
     "output_type": "display_data"
    }
   ],
   "source": [
    "plt.scatter(x, y, facecolor='red')\n",
    "plt.plot(x_test, y_model, linewidth=3, alpha=0.4)"
   ]
  },
  {
   "cell_type": "code",
   "execution_count": 11,
   "id": "93f99d89-e941-444c-8104-21768f7e3f9c",
   "metadata": {},
   "outputs": [
    {
     "data": {
      "text/plain": [
       "-4.4984504356016695"
      ]
     },
     "execution_count": 11,
     "metadata": {},
     "output_type": "execute_result"
    }
   ],
   "source": [
    "model.intercept_"
   ]
  },
  {
   "cell_type": "code",
   "execution_count": 12,
   "id": "96beeea4-541a-492c-9d17-4d121b03f610",
   "metadata": {},
   "outputs": [
    {
     "data": {
      "text/plain": [
       "array([2.00234498])"
      ]
     },
     "execution_count": 12,
     "metadata": {},
     "output_type": "execute_result"
    }
   ],
   "source": [
    "model.coef_"
   ]
  },
  {
   "cell_type": "code",
   "execution_count": null,
   "id": "2649c8ed-2756-4500-b93f-dafdbe4bbe35",
   "metadata": {},
   "outputs": [],
   "source": []
  },
  {
   "cell_type": "code",
   "execution_count": 13,
   "id": "bbea3730-59bc-4680-b704-a6a7916fcf03",
   "metadata": {},
   "outputs": [],
   "source": [
    "model=LinearRegression(fit_intercept=True)"
   ]
  },
  {
   "cell_type": "code",
   "execution_count": 14,
   "id": "2a8e4768-680d-461b-ad5c-6497ff8e1c22",
   "metadata": {},
   "outputs": [],
   "source": [
    "x1 = 10*np.random.rand(50, 3)\n",
    "y1 = 0.5 + np.dot(x1, [2, -2, 1])"
   ]
  },
  {
   "cell_type": "code",
   "execution_count": 15,
   "id": "e4751874-184a-4dc5-812b-fe1e608a6c31",
   "metadata": {},
   "outputs": [
    {
     "data": {
      "text/plain": [
       "array([2, 2])"
      ]
     },
     "execution_count": 15,
     "metadata": {},
     "output_type": "execute_result"
    }
   ],
   "source": [
    "np.dot([[1, -1, 1],\n",
    "        [2, -2, 1]],\n",
    "       [1, 1, 2])"
   ]
  },
  {
   "cell_type": "code",
   "execution_count": 16,
   "id": "35f8821c-00d6-4753-914d-7fcb6c12d7fa",
   "metadata": {},
   "outputs": [
    {
     "data": {
      "text/plain": [
       "(50, 3)"
      ]
     },
     "execution_count": 16,
     "metadata": {},
     "output_type": "execute_result"
    }
   ],
   "source": [
    "x1.shape"
   ]
  },
  {
   "cell_type": "code",
   "execution_count": 17,
   "id": "15494e48-b4a3-4e5c-a376-aebd9b5bb999",
   "metadata": {},
   "outputs": [
    {
     "data": {
      "text/plain": [
       "(50,)"
      ]
     },
     "execution_count": 17,
     "metadata": {},
     "output_type": "execute_result"
    }
   ],
   "source": [
    "y1.shape"
   ]
  },
  {
   "cell_type": "code",
   "execution_count": 18,
   "id": "c3ee72f3-9610-45ea-8b35-39167c1af192",
   "metadata": {},
   "outputs": [
    {
     "data": {
      "text/plain": [
       "LinearRegression()"
      ]
     },
     "execution_count": 18,
     "metadata": {},
     "output_type": "execute_result"
    }
   ],
   "source": [
    "model.fit(x1,y1)"
   ]
  },
  {
   "cell_type": "code",
   "execution_count": 19,
   "id": "9987c061-c58c-4157-ae28-ba0017be1eb5",
   "metadata": {},
   "outputs": [
    {
     "data": {
      "text/plain": [
       "array([ 2., -2.,  1.])"
      ]
     },
     "execution_count": 19,
     "metadata": {},
     "output_type": "execute_result"
    }
   ],
   "source": [
    "model.coef_"
   ]
  },
  {
   "cell_type": "markdown",
   "id": "3c94a83b-86d5-45d3-9cda-cb2e51f2a451",
   "metadata": {},
   "source": [
    "### Polynomial basis functions"
   ]
  },
  {
   "cell_type": "code",
   "execution_count": 20,
   "id": "823b1780-642d-4177-a0cb-bc1f65929609",
   "metadata": {},
   "outputs": [],
   "source": [
    "x3 =np.array([2,3,4])"
   ]
  },
  {
   "cell_type": "code",
   "execution_count": 21,
   "id": "f4f519e3-d5ab-4746-b40e-7fe22f395eca",
   "metadata": {},
   "outputs": [],
   "source": [
    "from sklearn.preprocessing import PolynomialFeatures"
   ]
  },
  {
   "cell_type": "code",
   "execution_count": 22,
   "id": "b5756715-98d1-4d9e-8b6f-bd0ac241f8aa",
   "metadata": {},
   "outputs": [],
   "source": [
    "model2 = PolynomialFeatures(degree=5, include_bias=True)"
   ]
  },
  {
   "cell_type": "code",
   "execution_count": 23,
   "id": "b0dcb9ba-0a85-4dbb-a88f-24447a822279",
   "metadata": {},
   "outputs": [
    {
     "data": {
      "text/plain": [
       "array([[1.000e+00, 2.000e+00, 4.000e+00, 8.000e+00, 1.600e+01, 3.200e+01],\n",
       "       [1.000e+00, 3.000e+00, 9.000e+00, 2.700e+01, 8.100e+01, 2.430e+02],\n",
       "       [1.000e+00, 4.000e+00, 1.600e+01, 6.400e+01, 2.560e+02, 1.024e+03]])"
      ]
     },
     "execution_count": 23,
     "metadata": {},
     "output_type": "execute_result"
    }
   ],
   "source": [
    "model2.fit_transform(x3[:,None])"
   ]
  },
  {
   "cell_type": "code",
   "execution_count": null,
   "id": "7ba61300-209b-47cb-b768-7bb057b26191",
   "metadata": {},
   "outputs": [],
   "source": []
  },
  {
   "cell_type": "code",
   "execution_count": 24,
   "id": "85970e3f-de9d-45a9-b923-683b3a2a4c40",
   "metadata": {},
   "outputs": [],
   "source": [
    "from sklearn.pipeline import make_pipeline"
   ]
  },
  {
   "cell_type": "code",
   "execution_count": 25,
   "id": "a78f68e1-c657-476d-9161-76ee5f00d595",
   "metadata": {},
   "outputs": [],
   "source": [
    "poly = make_pipeline(PolynomialFeatures(degree=10), LinearRegression())"
   ]
  },
  {
   "cell_type": "code",
   "execution_count": 26,
   "id": "31ef4eb3-3ab3-4fcd-8860-938c38b9434a",
   "metadata": {},
   "outputs": [],
   "source": [
    "x = np.random.rand(50) *10\n",
    "y = np.sin(x)+0.1*np.random.rand(50)"
   ]
  },
  {
   "cell_type": "code",
   "execution_count": 27,
   "id": "b5d27cd8-213b-498d-8827-2aa30a1c0172",
   "metadata": {},
   "outputs": [
    {
     "data": {
      "text/plain": [
       "(50,)"
      ]
     },
     "execution_count": 27,
     "metadata": {},
     "output_type": "execute_result"
    }
   ],
   "source": [
    "x.shape"
   ]
  },
  {
   "cell_type": "code",
   "execution_count": 28,
   "id": "bc0ee133-69f5-41e4-88a1-18027ac37854",
   "metadata": {},
   "outputs": [
    {
     "data": {
      "text/plain": [
       "(50,)"
      ]
     },
     "execution_count": 28,
     "metadata": {},
     "output_type": "execute_result"
    }
   ],
   "source": [
    "y.shape"
   ]
  },
  {
   "cell_type": "code",
   "execution_count": 26,
   "id": "079a2f00-b76c-459f-b7e4-d912abefa5ac",
   "metadata": {},
   "outputs": [],
   "source": [
    "x_test = np.linspace(0, 10, 1000)"
   ]
  },
  {
   "cell_type": "code",
   "execution_count": 27,
   "id": "86464955-f0db-4c49-a365-8ccb18e999ec",
   "metadata": {},
   "outputs": [],
   "source": [
    "y_model = poly.fit(x[:,None], y).predict(x_test[:, None])"
   ]
  },
  {
   "cell_type": "code",
   "execution_count": null,
   "id": "1a5da623-0470-471b-830e-bd5ed6329a92",
   "metadata": {},
   "outputs": [],
   "source": []
  },
  {
   "cell_type": "code",
   "execution_count": 28,
   "id": "2c6d66c1-5d8c-46ad-93c5-fbdea9123d58",
   "metadata": {},
   "outputs": [
    {
     "data": {
      "text/plain": [
       "array([ 0.00000000e+00,  6.38979496e-01,  1.10939626e+00, -1.40527795e+00,\n",
       "        7.06607140e-01, -2.28419367e-01,  4.98380304e-02, -6.97371318e-03,\n",
       "        5.88938773e-04, -2.72217229e-05,  5.29022290e-07])"
      ]
     },
     "execution_count": 28,
     "metadata": {},
     "output_type": "execute_result"
    }
   ],
   "source": [
    "poly.steps[1][1].coef_"
   ]
  },
  {
   "cell_type": "code",
   "execution_count": 29,
   "id": "22ba39b6-067a-4dbd-9d32-79af7c80f6fc",
   "metadata": {},
   "outputs": [
    {
     "data": {
      "text/plain": [
       "[<matplotlib.lines.Line2D at 0x7fb0333111f0>]"
      ]
     },
     "execution_count": 29,
     "metadata": {},
     "output_type": "execute_result"
    },
    {
     "data": {
      "image/png": "[encoded data removed]",
      "text/plain": [
       "<Figure size 432x288 with 1 Axes>"
      ]
     },
     "metadata": {
      "needs_background": "light"
     },
     "output_type": "display_data"
    }
   ],
   "source": [
    "plt.scatter(x, y)\n",
    "plt.plot(x_test, y_model)"
   ]
  },
  {
   "cell_type": "code",
   "execution_count": null,
   "id": "1d308028-035e-4f80-93fc-fbba0756c129",
   "metadata": {},
   "outputs": [],
   "source": []
  },
  {
   "cell_type": "markdown",
   "id": "ea8664f6-8647-421c-ad6d-858b5ba8eebf",
   "metadata": {},
   "source": [
    "## Gaussian basis functions"
   ]
  },
  {
   "cell_type": "code",
   "execution_count": 30,
   "id": "f49bd393-28db-4667-a9c0-10111db99b02",
   "metadata": {},
   "outputs": [],
   "source": [
    "x3 =np.array([2,3,4])"
   ]
  },
  {
   "cell_type": "code",
   "execution_count": 31,
   "id": "478948db-d037-4f2a-81e8-c9a415a56f3c",
   "metadata": {},
   "outputs": [
    {
     "data": {
      "text/plain": [
       "array([[1.        , 0.8824969 , 0.60653066, 0.32465247, 0.13533528],\n",
       "       [0.60653066, 0.8824969 , 1.        , 0.8824969 , 0.60653066],\n",
       "       [0.13533528, 0.32465247, 0.60653066, 0.8824969 , 1.        ]])"
      ]
     },
     "execution_count": 31,
     "metadata": {},
     "output_type": "execute_result"
    }
   ],
   "source": [
    "GaussianFeatures(5).fit_transform(x3[:,None])"
   ]
  },
  {
   "cell_type": "code",
   "execution_count": 32,
   "id": "0598c239-4047-4ef5-a7e2-fccc9c848a44",
   "metadata": {},
   "outputs": [],
   "source": [
    "from sklearn.base import BaseEstimator, TransformerMixin \n",
    "class GaussianFeatures(BaseEstimator, TransformerMixin):\n",
    "    def __init__(self, N, width_factor=2.0): \n",
    "        self.N = N \n",
    "        self.width_factor = width_factor\n",
    "        \n",
    "    @staticmethod\n",
    "    def _gauss_basis(x, y, width, axis=None):\n",
    "        arg = (x - y) / width \n",
    "        return np.exp(-0.5 * np.sum(arg ** 2, axis))\n",
    "\n",
    "    def fit(self, X, y=None):\n",
    "    # create N centers spread along the data range \n",
    "        self.centers_ = np.linspace(X.min(), X.max(), self.N) \n",
    "        self.width_ = self.width_factor * (self.centers_[1] - self.centers_[0]) \n",
    "        return self\n",
    "\n",
    "    def transform(self, X):\n",
    "        return self._gauss_basis(X[:, :, np.newaxis], self.centers_, self.width_, axis=1)\n",
    "\n"
   ]
  },
  {
   "cell_type": "code",
   "execution_count": 33,
   "id": "5c079f9e-3340-4814-baf1-030f84b6d52f",
   "metadata": {},
   "outputs": [],
   "source": [
    "gauss_model = make_pipeline(GaussianFeatures(20), LinearRegression()) \n",
    "gauss_model.fit(x[:, np.newaxis], y)\n",
    "yfit = gauss_model.predict(x_test[:, np.newaxis])"
   ]
  },
  {
   "cell_type": "code",
   "execution_count": 34,
   "id": "3991225d-040b-4294-b7d2-b1f8642117a4",
   "metadata": {},
   "outputs": [],
   "source": [
    "x = np.random.rand(50) *10\n",
    "y = np.sin(x)+0.1*np.random.rand(50)"
   ]
  },
  {
   "cell_type": "code",
   "execution_count": 35,
   "id": "416e762e-9b62-4faf-b407-4c37709ee8fc",
   "metadata": {
    "collapsed": true,
    "jupyter": {
     "outputs_hidden": true
    },
    "tags": []
   },
   "outputs": [
    {
     "data": {
      "text/plain": [
       "(0.0, 10.0)"
      ]
     },
     "execution_count": 35,
     "metadata": {},
     "output_type": "execute_result"
    },
    {
     "data": {
      "image/png": "[encoded data removed]",
      "text/plain": [
       "<Figure size 432x288 with 1 Axes>"
      ]
     },
     "metadata": {
      "needs_background": "light"
     },
     "output_type": "display_data"
    }
   ],
   "source": [
    "plt.scatter(x, y)\n",
    "plt.plot(x_test, yfit)\n",
    "plt.xlim(0,10)"
   ]
  },
  {
   "cell_type": "code",
   "execution_count": 36,
   "id": "ed0bad82-e1b4-432d-ab1c-31c0ad266ef7",
   "metadata": {},
   "outputs": [
    {
     "data": {
      "text/plain": [
       "array([0.07695106, 0.59859751, 1.12024395, 1.6418904 , 2.16353685,\n",
       "       2.68518329, 3.20682974, 3.72847619, 4.25012263, 4.77176908,\n",
       "       5.29341553, 5.81506197, 6.33670842, 6.85835487, 7.38000131,\n",
       "       7.90164776, 8.42329421, 8.94494065, 9.4665871 , 9.98823355])"
      ]
     },
     "execution_count": 36,
     "metadata": {},
     "output_type": "execute_result"
    }
   ],
   "source": [
    "gauss_model.steps[0][1].centers_"
   ]
  },
  {
   "cell_type": "code",
   "execution_count": 37,
   "id": "5ef7bb07-7fc3-41cc-8be9-2a7121665a17",
   "metadata": {},
   "outputs": [
    {
     "data": {
      "text/plain": [
       "array([   690.68246375,  -2224.9503823 ,   4636.37851544,  -7234.14796621,\n",
       "         9563.9361845 , -10919.72618014,  11177.46958147, -10115.12146454,\n",
       "         8068.30895708,  -5155.7263737 ,   1907.85770172,   1461.27647064,\n",
       "        -4379.47267727,   6630.37764607,  -7705.56671121,   7606.07879468,\n",
       "        -6254.62163378,   4263.67648851,  -2132.48259051,    680.21209903])"
      ]
     },
     "execution_count": 37,
     "metadata": {},
     "output_type": "execute_result"
    }
   ],
   "source": [
    "gauss_model.steps[1][1].coef_"
   ]
  },
  {
   "cell_type": "code",
   "execution_count": null,
   "id": "6d90c30d-8003-40cc-97c8-cde9db22c9f5",
   "metadata": {},
   "outputs": [],
   "source": []
  },
  {
   "cell_type": "code",
   "execution_count": 38,
   "id": "65bb827b-4927-4b68-94b8-582c3597b650",
   "metadata": {},
   "outputs": [],
   "source": [
    "gauss_model2 = make_pipeline(GaussianFeatures(2), LinearRegression())"
   ]
  },
  {
   "cell_type": "code",
   "execution_count": 39,
   "id": "85ea3366-1695-41f6-9d2f-e083379b0d42",
   "metadata": {},
   "outputs": [],
   "source": [
    "x = np.array([1, 2, 3, 4, 5, 4, 3])\n",
    "y = np.array([4, 2, 1, 3, 7, 6, 5])"
   ]
  },
  {
   "cell_type": "code",
   "execution_count": 40,
   "id": "fb01a9ef-0d46-43fa-a51c-bb51635e42c9",
   "metadata": {},
   "outputs": [],
   "source": [
    "y_m = gauss_model2.fit(x[:, None], y).predict(x[:,None])"
   ]
  },
  {
   "cell_type": "code",
   "execution_count": 41,
   "id": "b7c8a2d9-1819-4d56-b6f8-e56eb4c7c171",
   "metadata": {},
   "outputs": [
    {
     "data": {
      "text/plain": [
       "[<matplotlib.lines.Line2D at 0x7fb0335068e0>]"
      ]
     },
     "execution_count": 41,
     "metadata": {},
     "output_type": "execute_result"
    },
    {
     "data": {
      "image/png": "[encoded data removed]",
      "text/plain": [
       "<Figure size 432x288 with 1 Axes>"
      ]
     },
     "metadata": {
      "needs_background": "light"
     },
     "output_type": "display_data"
    }
   ],
   "source": [
    "plt.scatter(x,y)\n",
    "plt.plot(x, y_m)"
   ]
  },
  {
   "cell_type": "code",
   "execution_count": 42,
   "id": "89e58697-e36a-47fa-857c-02659db46286",
   "metadata": {},
   "outputs": [
    {
     "data": {
      "text/plain": [
       "array([1., 5.])"
      ]
     },
     "execution_count": 42,
     "metadata": {},
     "output_type": "execute_result"
    }
   ],
   "source": [
    "gauss_model2.steps[0][1].centers_"
   ]
  },
  {
   "cell_type": "code",
   "execution_count": 43,
   "id": "5572aad4-62b5-492c-a09d-cb3f91532474",
   "metadata": {},
   "outputs": [
    {
     "data": {
      "text/plain": [
       "array([-61.0645082 , -31.81085716])"
      ]
     },
     "execution_count": 43,
     "metadata": {},
     "output_type": "execute_result"
    }
   ],
   "source": [
    "gauss_model2.steps[1][1].coef_"
   ]
  },
  {
   "cell_type": "markdown",
   "id": "1e341285-7eda-4062-8951-75145bcd4dfc",
   "metadata": {},
   "source": [
    "# Regularization"
   ]
  },
  {
   "cell_type": "code",
   "execution_count": 44,
   "id": "ab785ca8-1878-4faa-8349-6ad983fea2bb",
   "metadata": {},
   "outputs": [],
   "source": [
    "x = np.random.rand(50) *10\n",
    "y = np.sin(x)+0.1*np.random.rand(50)"
   ]
  },
  {
   "cell_type": "code",
   "execution_count": 45,
   "id": "8052d3ce-e3a7-42e9-984c-f10a99d8ca7b",
   "metadata": {},
   "outputs": [],
   "source": [
    "new_model = make_pipeline(GaussianFeatures(30), LinearRegression())"
   ]
  },
  {
   "cell_type": "code",
   "execution_count": 46,
   "id": "92a48af1-950d-4ba2-b1ad-66ba4a5ee171",
   "metadata": {},
   "outputs": [],
   "source": [
    "y_test = np.linspace(0, 10, 1000)\n",
    "y_test = new_model.fit(x[:,None], y).predict(x_test[:, None])"
   ]
  },
  {
   "cell_type": "code",
   "execution_count": 47,
   "id": "df2bdcc2-abc3-4203-9226-792e26c877ee",
   "metadata": {},
   "outputs": [
    {
     "data": {
      "text/plain": [
       "(-1.5, 1.5)"
      ]
     },
     "execution_count": 47,
     "metadata": {},
     "output_type": "execute_result"
    },
    {
     "data": {
      "image/png": "[encoded data removed]",
      "text/plain": [
       "<Figure size 432x288 with 1 Axes>"
      ]
     },
     "metadata": {
      "needs_background": "light"
     },
     "output_type": "display_data"
    }
   ],
   "source": [
    "plt.scatter(x, y)\n",
    "plt.plot(x_test, y_test)\n",
    "plt.xlim(0,10)\n",
    "plt.ylim(-1.5, 1.5)"
   ]
  },
  {
   "cell_type": "code",
   "execution_count": 48,
   "id": "6504e19a-4d6f-4e92-85bd-979792ef9717",
   "metadata": {},
   "outputs": [],
   "source": [
    "new_model = make_pipeline(GaussianFeatures(30), LinearRegression())"
   ]
  },
  {
   "cell_type": "code",
   "execution_count": 49,
   "id": "9af695b3-489f-4f33-ad75-65549fbcd666",
   "metadata": {},
   "outputs": [],
   "source": [
    "x = np.random.rand(50) *10\n",
    "y = np.sin(x)+0.1*np.random.rand(50)"
   ]
  },
  {
   "cell_type": "code",
   "execution_count": 50,
   "id": "6b0a62b9-12f8-4050-ab63-4a1e8e74e606",
   "metadata": {},
   "outputs": [],
   "source": [
    "def plot_figures(model, title=None):\n",
    "    fig, ax = plt.subplots(2, sharex=True)\n",
    "    model.fit(x[:,None], y)\n",
    "    x_test = np.linspace(0, 10, 1000)\n",
    "    y_test = new_model.fit(x[:,None], y).predict(x_test[:, None])\n",
    "    ax[0].scatter(x, y)\n",
    "    ax[0].plot(x_test,y_test)\n",
    "    ax[0].set(xlim=(0,10), xlabel='x', ylabel='y')\n",
    "    if title:\n",
    "        ax[0].set_title(title)\n",
    "        \n",
    "    ax[1].plot(model.steps[0][1].centers_, model.steps[1][1].coef_)\n",
    "    ax[1].set(xlim=(0,10),xlabel='basis location', ylabel='Coefficients')"
   ]
  },
  {
   "cell_type": "code",
   "execution_count": 51,
   "id": "bce79876-271e-465c-afe5-24891fad3dad",
   "metadata": {},
   "outputs": [
    {
     "data": {
      "image/png": "[encoded data removed]",
      "text/plain": [
       "<Figure size 432x288 with 2 Axes>"
      ]
     },
     "metadata": {
      "needs_background": "light"
     },
     "output_type": "display_data"
    }
   ],
   "source": [
    "plot_figures(new_model)"
   ]
  },
  {
   "cell_type": "code",
   "execution_count": null,
   "id": "b8acbde0-1c0e-4180-9e33-2c5876e8192d",
   "metadata": {},
   "outputs": [],
   "source": []
  },
  {
   "cell_type": "markdown",
   "id": "d33bd14d-078c-431b-97a8-31ec9b20df48",
   "metadata": {},
   "source": [
    "### Ridge regression (L 2 regularization)"
   ]
  },
  {
   "cell_type": "code",
   "execution_count": 52,
   "id": "43a0dce8-0933-4bba-9da3-5ed7d8cd0177",
   "metadata": {},
   "outputs": [],
   "source": [
    "from sklearn.linear_model import Ridge"
   ]
  },
  {
   "cell_type": "code",
   "execution_count": 53,
   "id": "620ba2dd-aa16-4960-b00a-bc6e25a33337",
   "metadata": {},
   "outputs": [],
   "source": [
    "modela = make_pipeline(GaussianFeatures(20), Ridge(alpha=0.05))"
   ]
  },
  {
   "cell_type": "code",
   "execution_count": 54,
   "id": "2fd76aad-a74e-402c-872f-99428e570072",
   "metadata": {},
   "outputs": [
    {
     "data": {
      "image/png": "[encoded data removed]",
      "text/plain": [
       "<Figure size 432x288 with 2 Axes>"
      ]
     },
     "metadata": {
      "needs_background": "light"
     },
     "output_type": "display_data"
    }
   ],
   "source": [
    "plot_figures(modela, title='Ridge Regression')"
   ]
  },
  {
   "cell_type": "markdown",
   "id": "d9c8b0d3-bb3c-4867-b6a4-e02aeae46c93",
   "metadata": {},
   "source": [
    "### Ridge regression (L 2 regularization)"
   ]
  },
  {
   "cell_type": "code",
   "execution_count": 55,
   "id": "9f8c4c03-788b-45cc-a5a0-269406dd4c28",
   "metadata": {},
   "outputs": [],
   "source": [
    "from sklearn.linear_model import Lasso"
   ]
  },
  {
   "cell_type": "code",
   "execution_count": 56,
   "id": "baaf726e-8ee5-428d-82f8-8432e8bcae0f",
   "metadata": {},
   "outputs": [],
   "source": [
    "modelb = make_pipeline(GaussianFeatures(30), Lasso(alpha=0.0004))"
   ]
  },
  {
   "cell_type": "code",
   "execution_count": 57,
   "id": "67d8b49d-12bf-45cd-acbe-f3fe31e5c68e",
   "metadata": {},
   "outputs": [
    {
     "name": "stderr",
     "output_type": "stream",
     "text": [
      "/Users/david/opt/anaconda3/lib/python3.9/site-packages/sklearn/linear_model/_coordinate_descent.py:530: ConvergenceWarning: Objective did not converge. You might want to increase the number of iterations. Duality gap: 0.004717337559222344, tolerance: 0.0028227670432305983\n",
      "  model = cd_fast.enet_coordinate_descent(\n"
     ]
    },
    {
     "data": {
      "image/png": "[encoded data removed]",
      "text/plain": [
       "<Figure size 432x288 with 2 Axes>"
      ]
     },
     "metadata": {
      "needs_background": "light"
     },
     "output_type": "display_data"
    }
   ],
   "source": [
    "plot_figures(modelb, title='Lasso Regression')"
   ]
  },
  {
   "cell_type": "markdown",
   "id": "8f786c41-c88e-41da-9c4d-814c5cb1a63a",
   "metadata": {},
   "source": [
    "# Example: Predicting Bicycle Traffic"
   ]
  },
  {
   "cell_type": "code",
   "execution_count": 58,
   "id": "2b8b26f9-49df-423d-ba1d-06093df469bc",
   "metadata": {},
   "outputs": [
    {
     "data": {
      "text/html": [
       "<div>\n",
       "<style scoped>\n",
       "    .dataframe tbody tr th:only-of-type {\n",
       "        vertical-align: middle;\n",
       "    }\n",
       "\n",
       "    .dataframe tbody tr th {\n",
       "        vertical-align: top;\n",
       "    }\n",
       "\n",
       "    .dataframe thead th {\n",
       "        text-align: right;\n",
       "    }\n",
       "</style>\n",
       "<table border=\"1\" class=\"dataframe\">\n",
       "  <thead>\n",
       "    <tr style=\"text-align: right;\">\n",
       "      <th></th>\n",
       "      <th>Fremont Bridge Total</th>\n",
       "      <th>Fremont Bridge East Sidewalk</th>\n",
       "      <th>Fremont Bridge West Sidewalk</th>\n",
       "    </tr>\n",
       "    <tr>\n",
       "      <th>Date</th>\n",
       "      <th></th>\n",
       "      <th></th>\n",
       "      <th></th>\n",
       "    </tr>\n",
       "  </thead>\n",
       "  <tbody>\n",
       "    <tr>\n",
       "      <th>2019-11-01 00:00:00</th>\n",
       "      <td>12.0</td>\n",
       "      <td>7.0</td>\n",
       "      <td>5.0</td>\n",
       "    </tr>\n",
       "    <tr>\n",
       "      <th>2019-11-01 01:00:00</th>\n",
       "      <td>7.0</td>\n",
       "      <td>0.0</td>\n",
       "      <td>7.0</td>\n",
       "    </tr>\n",
       "    <tr>\n",
       "      <th>2019-11-01 02:00:00</th>\n",
       "      <td>1.0</td>\n",
       "      <td>0.0</td>\n",
       "      <td>1.0</td>\n",
       "    </tr>\n",
       "    <tr>\n",
       "      <th>2019-11-01 03:00:00</th>\n",
       "      <td>6.0</td>\n",
       "      <td>6.0</td>\n",
       "      <td>0.0</td>\n",
       "    </tr>\n",
       "    <tr>\n",
       "      <th>2019-11-01 04:00:00</th>\n",
       "      <td>6.0</td>\n",
       "      <td>5.0</td>\n",
       "      <td>1.0</td>\n",
       "    </tr>\n",
       "    <tr>\n",
       "      <th>...</th>\n",
       "      <td>...</td>\n",
       "      <td>...</td>\n",
       "      <td>...</td>\n",
       "    </tr>\n",
       "    <tr>\n",
       "      <th>2022-03-31 19:00:00</th>\n",
       "      <td>136.0</td>\n",
       "      <td>45.0</td>\n",
       "      <td>91.0</td>\n",
       "    </tr>\n",
       "    <tr>\n",
       "      <th>2022-03-31 20:00:00</th>\n",
       "      <td>94.0</td>\n",
       "      <td>35.0</td>\n",
       "      <td>59.0</td>\n",
       "    </tr>\n",
       "    <tr>\n",
       "      <th>2022-03-31 21:00:00</th>\n",
       "      <td>48.0</td>\n",
       "      <td>26.0</td>\n",
       "      <td>22.0</td>\n",
       "    </tr>\n",
       "    <tr>\n",
       "      <th>2022-03-31 22:00:00</th>\n",
       "      <td>33.0</td>\n",
       "      <td>15.0</td>\n",
       "      <td>18.0</td>\n",
       "    </tr>\n",
       "    <tr>\n",
       "      <th>2022-03-31 23:00:00</th>\n",
       "      <td>24.0</td>\n",
       "      <td>5.0</td>\n",
       "      <td>19.0</td>\n",
       "    </tr>\n",
       "  </tbody>\n",
       "</table>\n",
       "<p>149438 rows × 3 columns</p>\n",
       "</div>"
      ],
      "text/plain": [
       "                     Fremont Bridge Total  Fremont Bridge East Sidewalk  \\\n",
       "Date                                                                      \n",
       "2019-11-01 00:00:00                  12.0                           7.0   \n",
       "2019-11-01 01:00:00                   7.0                           0.0   \n",
       "2019-11-01 02:00:00                   1.0                           0.0   \n",
       "2019-11-01 03:00:00                   6.0                           6.0   \n",
       "2019-11-01 04:00:00                   6.0                           5.0   \n",
       "...                                   ...                           ...   \n",
       "2022-03-31 19:00:00                 136.0                          45.0   \n",
       "2022-03-31 20:00:00                  94.0                          35.0   \n",
       "2022-03-31 21:00:00                  48.0                          26.0   \n",
       "2022-03-31 22:00:00                  33.0                          15.0   \n",
       "2022-03-31 23:00:00                  24.0                           5.0   \n",
       "\n",
       "                     Fremont Bridge West Sidewalk  \n",
       "Date                                               \n",
       "2019-11-01 00:00:00                           5.0  \n",
       "2019-11-01 01:00:00                           7.0  \n",
       "2019-11-01 02:00:00                           1.0  \n",
       "2019-11-01 03:00:00                           0.0  \n",
       "2019-11-01 04:00:00                           1.0  \n",
       "...                                           ...  \n",
       "2022-03-31 19:00:00                          91.0  \n",
       "2022-03-31 20:00:00                          59.0  \n",
       "2022-03-31 21:00:00                          22.0  \n",
       "2022-03-31 22:00:00                          18.0  \n",
       "2022-03-31 23:00:00                          19.0  \n",
       "\n",
       "[149438 rows x 3 columns]"
      ]
     },
     "execution_count": 58,
     "metadata": {},
     "output_type": "execute_result"
    }
   ],
   "source": [
    "counts = pd.read_csv('Fremont_Bridge_Bicycle_Counter.csv', index_col='Date', parse_dates=True)\n",
    "counts"
   ]
  },
  {
   "cell_type": "code",
   "execution_count": 59,
   "id": "bdee1900-c49d-423c-9938-4e678b72d63a",
   "metadata": {},
   "outputs": [],
   "source": [
    "daily = counts.resample('d').aggregate(np.sum)"
   ]
  },
  {
   "cell_type": "code",
   "execution_count": null,
   "id": "c762000a-538f-4097-a905-43d8997b9a40",
   "metadata": {},
   "outputs": [],
   "source": []
  },
  {
   "cell_type": "code",
   "execution_count": 61,
   "id": "a9a497f2-3590-4e47-ac2d-b2050358a0fd",
   "metadata": {},
   "outputs": [
    {
     "data": {
      "text/plain": [
       "Int64Index([4, 4, 4, 4, 4, 4, 4, 4, 4, 4,\n",
       "            ...\n",
       "            3, 3, 3, 3, 3, 3, 3, 3, 3, 3],\n",
       "           dtype='int64', name='Date', length=149438)"
      ]
     },
     "execution_count": 61,
     "metadata": {},
     "output_type": "execute_result"
    }
   ],
   "source": [
    "counts.index.dayofweek"
   ]
  },
  {
   "cell_type": "code",
   "execution_count": null,
   "id": "d4905d6b-5e89-4b5b-bdec-67fea29ea30a",
   "metadata": {},
   "outputs": [],
   "source": []
  },
  {
   "cell_type": "code",
   "execution_count": 62,
   "id": "aa858659-35fb-404e-b501-cd0ae81cb6fc",
   "metadata": {},
   "outputs": [
    {
     "data": {
      "text/html": [
       "<div>\n",
       "<style scoped>\n",
       "    .dataframe tbody tr th:only-of-type {\n",
       "        vertical-align: middle;\n",
       "    }\n",
       "\n",
       "    .dataframe tbody tr th {\n",
       "        vertical-align: top;\n",
       "    }\n",
       "\n",
       "    .dataframe thead th {\n",
       "        text-align: right;\n",
       "    }\n",
       "</style>\n",
       "<table border=\"1\" class=\"dataframe\">\n",
       "  <thead>\n",
       "    <tr style=\"text-align: right;\">\n",
       "      <th></th>\n",
       "      <th>Fremont Bridge Total</th>\n",
       "      <th>Fremont Bridge East Sidewalk</th>\n",
       "      <th>Fremont Bridge West Sidewalk</th>\n",
       "    </tr>\n",
       "    <tr>\n",
       "      <th>Date</th>\n",
       "      <th></th>\n",
       "      <th></th>\n",
       "      <th></th>\n",
       "    </tr>\n",
       "  </thead>\n",
       "  <tbody>\n",
       "    <tr>\n",
       "      <th>2012-10-03</th>\n",
       "      <td>7042.0</td>\n",
       "      <td>3520.0</td>\n",
       "      <td>3522.0</td>\n",
       "    </tr>\n",
       "    <tr>\n",
       "      <th>2012-10-04</th>\n",
       "      <td>6950.0</td>\n",
       "      <td>3416.0</td>\n",
       "      <td>3534.0</td>\n",
       "    </tr>\n",
       "    <tr>\n",
       "      <th>2012-10-05</th>\n",
       "      <td>6296.0</td>\n",
       "      <td>3116.0</td>\n",
       "      <td>3180.0</td>\n",
       "    </tr>\n",
       "    <tr>\n",
       "      <th>2012-10-06</th>\n",
       "      <td>4012.0</td>\n",
       "      <td>2160.0</td>\n",
       "      <td>1852.0</td>\n",
       "    </tr>\n",
       "    <tr>\n",
       "      <th>2012-10-07</th>\n",
       "      <td>4284.0</td>\n",
       "      <td>2382.0</td>\n",
       "      <td>1902.0</td>\n",
       "    </tr>\n",
       "    <tr>\n",
       "      <th>...</th>\n",
       "      <td>...</td>\n",
       "      <td>...</td>\n",
       "      <td>...</td>\n",
       "    </tr>\n",
       "    <tr>\n",
       "      <th>2022-03-27</th>\n",
       "      <td>2369.0</td>\n",
       "      <td>1059.0</td>\n",
       "      <td>1310.0</td>\n",
       "    </tr>\n",
       "    <tr>\n",
       "      <th>2022-03-28</th>\n",
       "      <td>2010.0</td>\n",
       "      <td>766.0</td>\n",
       "      <td>1244.0</td>\n",
       "    </tr>\n",
       "    <tr>\n",
       "      <th>2022-03-29</th>\n",
       "      <td>2856.0</td>\n",
       "      <td>1177.0</td>\n",
       "      <td>1679.0</td>\n",
       "    </tr>\n",
       "    <tr>\n",
       "      <th>2022-03-30</th>\n",
       "      <td>1888.0</td>\n",
       "      <td>707.0</td>\n",
       "      <td>1181.0</td>\n",
       "    </tr>\n",
       "    <tr>\n",
       "      <th>2022-03-31</th>\n",
       "      <td>2662.0</td>\n",
       "      <td>1023.0</td>\n",
       "      <td>1639.0</td>\n",
       "    </tr>\n",
       "  </tbody>\n",
       "</table>\n",
       "<p>3467 rows × 3 columns</p>\n",
       "</div>"
      ],
      "text/plain": [
       "            Fremont Bridge Total  Fremont Bridge East Sidewalk  \\\n",
       "Date                                                             \n",
       "2012-10-03                7042.0                        3520.0   \n",
       "2012-10-04                6950.0                        3416.0   \n",
       "2012-10-05                6296.0                        3116.0   \n",
       "2012-10-06                4012.0                        2160.0   \n",
       "2012-10-07                4284.0                        2382.0   \n",
       "...                          ...                           ...   \n",
       "2022-03-27                2369.0                        1059.0   \n",
       "2022-03-28                2010.0                         766.0   \n",
       "2022-03-29                2856.0                        1177.0   \n",
       "2022-03-30                1888.0                         707.0   \n",
       "2022-03-31                2662.0                        1023.0   \n",
       "\n",
       "            Fremont Bridge West Sidewalk  \n",
       "Date                                      \n",
       "2012-10-03                        3522.0  \n",
       "2012-10-04                        3534.0  \n",
       "2012-10-05                        3180.0  \n",
       "2012-10-06                        1852.0  \n",
       "2012-10-07                        1902.0  \n",
       "...                                  ...  \n",
       "2022-03-27                        1310.0  \n",
       "2022-03-28                        1244.0  \n",
       "2022-03-29                        1679.0  \n",
       "2022-03-30                        1181.0  \n",
       "2022-03-31                        1639.0  \n",
       "\n",
       "[3467 rows x 3 columns]"
      ]
     },
     "execution_count": 62,
     "metadata": {},
     "output_type": "execute_result"
    }
   ],
   "source": [
    "daily"
   ]
  },
  {
   "cell_type": "code",
   "execution_count": 63,
   "id": "6f3e82bf-7760-4800-b978-89be7031603c",
   "metadata": {},
   "outputs": [],
   "source": [
    "daily['Total']=daily.sum(axis=1)"
   ]
  },
  {
   "cell_type": "code",
   "execution_count": 64,
   "id": "a4833b03-bf9c-48dc-9d43-05472764a753",
   "metadata": {},
   "outputs": [],
   "source": [
    "daily = daily[['Total']]"
   ]
  },
  {
   "cell_type": "code",
   "execution_count": null,
   "id": "c5b294e4-0177-4a75-83ad-4c6ac9980f45",
   "metadata": {},
   "outputs": [],
   "source": []
  },
  {
   "cell_type": "code",
   "execution_count": 65,
   "id": "fbb85566-8d6d-472b-8105-d3e7b78f1cde",
   "metadata": {},
   "outputs": [
    {
     "name": "stderr",
     "output_type": "stream",
     "text": [
      "/var/folders/6h/5k5kd9fs35d2zrg3xjk3d2g80000gn/T/ipykernel_1088/4164828505.py:3: SettingWithCopyWarning: \n",
      "A value is trying to be set on a copy of a slice from a DataFrame.\n",
      "Try using .loc[row_indexer,col_indexer] = value instead\n",
      "\n",
      "See the caveats in the documentation: https://pandas.pydata.org/pandas-docs/stable/user_guide/indexing.html#returning-a-view-versus-a-copy\n",
      "  daily[days[i]] = (daily.index.dayofweek == i).astype(float)\n"
     ]
    }
   ],
   "source": [
    "days = ['Mon', 'Tue', 'Wed', 'Thu', 'Fri', 'Sat', 'Sun']\n",
    "for i in range(7):\n",
    "    daily[days[i]] = (daily.index.dayofweek == i).astype(float)"
   ]
  },
  {
   "cell_type": "code",
   "execution_count": 66,
   "id": "81caacaa-2e46-4c02-a22b-14ea8fe36b5f",
   "metadata": {},
   "outputs": [
    {
     "data": {
      "text/html": [
       "<div>\n",
       "<style scoped>\n",
       "    .dataframe tbody tr th:only-of-type {\n",
       "        vertical-align: middle;\n",
       "    }\n",
       "\n",
       "    .dataframe tbody tr th {\n",
       "        vertical-align: top;\n",
       "    }\n",
       "\n",
       "    .dataframe thead th {\n",
       "        text-align: right;\n",
       "    }\n",
       "</style>\n",
       "<table border=\"1\" class=\"dataframe\">\n",
       "  <thead>\n",
       "    <tr style=\"text-align: right;\">\n",
       "      <th></th>\n",
       "      <th>Total</th>\n",
       "      <th>Mon</th>\n",
       "      <th>Tue</th>\n",
       "      <th>Wed</th>\n",
       "      <th>Thu</th>\n",
       "      <th>Fri</th>\n",
       "      <th>Sat</th>\n",
       "      <th>Sun</th>\n",
       "    </tr>\n",
       "    <tr>\n",
       "      <th>Date</th>\n",
       "      <th></th>\n",
       "      <th></th>\n",
       "      <th></th>\n",
       "      <th></th>\n",
       "      <th></th>\n",
       "      <th></th>\n",
       "      <th></th>\n",
       "      <th></th>\n",
       "    </tr>\n",
       "  </thead>\n",
       "  <tbody>\n",
       "    <tr>\n",
       "      <th>2012-10-03</th>\n",
       "      <td>14084.0</td>\n",
       "      <td>0.0</td>\n",
       "      <td>0.0</td>\n",
       "      <td>1.0</td>\n",
       "      <td>0.0</td>\n",
       "      <td>0.0</td>\n",
       "      <td>0.0</td>\n",
       "      <td>0.0</td>\n",
       "    </tr>\n",
       "    <tr>\n",
       "      <th>2012-10-04</th>\n",
       "      <td>13900.0</td>\n",
       "      <td>0.0</td>\n",
       "      <td>0.0</td>\n",
       "      <td>0.0</td>\n",
       "      <td>1.0</td>\n",
       "      <td>0.0</td>\n",
       "      <td>0.0</td>\n",
       "      <td>0.0</td>\n",
       "    </tr>\n",
       "    <tr>\n",
       "      <th>2012-10-05</th>\n",
       "      <td>12592.0</td>\n",
       "      <td>0.0</td>\n",
       "      <td>0.0</td>\n",
       "      <td>0.0</td>\n",
       "      <td>0.0</td>\n",
       "      <td>1.0</td>\n",
       "      <td>0.0</td>\n",
       "      <td>0.0</td>\n",
       "    </tr>\n",
       "    <tr>\n",
       "      <th>2012-10-06</th>\n",
       "      <td>8024.0</td>\n",
       "      <td>0.0</td>\n",
       "      <td>0.0</td>\n",
       "      <td>0.0</td>\n",
       "      <td>0.0</td>\n",
       "      <td>0.0</td>\n",
       "      <td>1.0</td>\n",
       "      <td>0.0</td>\n",
       "    </tr>\n",
       "    <tr>\n",
       "      <th>2012-10-07</th>\n",
       "      <td>8568.0</td>\n",
       "      <td>0.0</td>\n",
       "      <td>0.0</td>\n",
       "      <td>0.0</td>\n",
       "      <td>0.0</td>\n",
       "      <td>0.0</td>\n",
       "      <td>0.0</td>\n",
       "      <td>1.0</td>\n",
       "    </tr>\n",
       "    <tr>\n",
       "      <th>...</th>\n",
       "      <td>...</td>\n",
       "      <td>...</td>\n",
       "      <td>...</td>\n",
       "      <td>...</td>\n",
       "      <td>...</td>\n",
       "      <td>...</td>\n",
       "      <td>...</td>\n",
       "      <td>...</td>\n",
       "    </tr>\n",
       "    <tr>\n",
       "      <th>2022-03-27</th>\n",
       "      <td>4738.0</td>\n",
       "      <td>0.0</td>\n",
       "      <td>0.0</td>\n",
       "      <td>0.0</td>\n",
       "      <td>0.0</td>\n",
       "      <td>0.0</td>\n",
       "      <td>0.0</td>\n",
       "      <td>1.0</td>\n",
       "    </tr>\n",
       "    <tr>\n",
       "      <th>2022-03-28</th>\n",
       "      <td>4020.0</td>\n",
       "      <td>1.0</td>\n",
       "      <td>0.0</td>\n",
       "      <td>0.0</td>\n",
       "      <td>0.0</td>\n",
       "      <td>0.0</td>\n",
       "      <td>0.0</td>\n",
       "      <td>0.0</td>\n",
       "    </tr>\n",
       "    <tr>\n",
       "      <th>2022-03-29</th>\n",
       "      <td>5712.0</td>\n",
       "      <td>0.0</td>\n",
       "      <td>1.0</td>\n",
       "      <td>0.0</td>\n",
       "      <td>0.0</td>\n",
       "      <td>0.0</td>\n",
       "      <td>0.0</td>\n",
       "      <td>0.0</td>\n",
       "    </tr>\n",
       "    <tr>\n",
       "      <th>2022-03-30</th>\n",
       "      <td>3776.0</td>\n",
       "      <td>0.0</td>\n",
       "      <td>0.0</td>\n",
       "      <td>1.0</td>\n",
       "      <td>0.0</td>\n",
       "      <td>0.0</td>\n",
       "      <td>0.0</td>\n",
       "      <td>0.0</td>\n",
       "    </tr>\n",
       "    <tr>\n",
       "      <th>2022-03-31</th>\n",
       "      <td>5324.0</td>\n",
       "      <td>0.0</td>\n",
       "      <td>0.0</td>\n",
       "      <td>0.0</td>\n",
       "      <td>1.0</td>\n",
       "      <td>0.0</td>\n",
       "      <td>0.0</td>\n",
       "      <td>0.0</td>\n",
       "    </tr>\n",
       "  </tbody>\n",
       "</table>\n",
       "<p>3467 rows × 8 columns</p>\n",
       "</div>"
      ],
      "text/plain": [
       "              Total  Mon  Tue  Wed  Thu  Fri  Sat  Sun\n",
       "Date                                                  \n",
       "2012-10-03  14084.0  0.0  0.0  1.0  0.0  0.0  0.0  0.0\n",
       "2012-10-04  13900.0  0.0  0.0  0.0  1.0  0.0  0.0  0.0\n",
       "2012-10-05  12592.0  0.0  0.0  0.0  0.0  1.0  0.0  0.0\n",
       "2012-10-06   8024.0  0.0  0.0  0.0  0.0  0.0  1.0  0.0\n",
       "2012-10-07   8568.0  0.0  0.0  0.0  0.0  0.0  0.0  1.0\n",
       "...             ...  ...  ...  ...  ...  ...  ...  ...\n",
       "2022-03-27   4738.0  0.0  0.0  0.0  0.0  0.0  0.0  1.0\n",
       "2022-03-28   4020.0  1.0  0.0  0.0  0.0  0.0  0.0  0.0\n",
       "2022-03-29   5712.0  0.0  1.0  0.0  0.0  0.0  0.0  0.0\n",
       "2022-03-30   3776.0  0.0  0.0  1.0  0.0  0.0  0.0  0.0\n",
       "2022-03-31   5324.0  0.0  0.0  0.0  1.0  0.0  0.0  0.0\n",
       "\n",
       "[3467 rows x 8 columns]"
      ]
     },
     "execution_count": 66,
     "metadata": {},
     "output_type": "execute_result"
    }
   ],
   "source": [
    "daily"
   ]
  },
  {
   "cell_type": "code",
   "execution_count": 67,
   "id": "ee587a79-dbb3-481c-9dec-985995840a40",
   "metadata": {},
   "outputs": [],
   "source": [
    "from pandas.tseries.holiday import USFederalHolidayCalendar \n",
    "cal = USFederalHolidayCalendar()"
   ]
  },
  {
   "cell_type": "code",
   "execution_count": 68,
   "id": "fc2ea229-ce1a-4d50-b44b-8aa29afc111a",
   "metadata": {},
   "outputs": [],
   "source": [
    "holidays = cal.holidays('2012', '2016')"
   ]
  },
  {
   "cell_type": "code",
   "execution_count": 69,
   "id": "e2de5f8a-e769-4b2e-a795-eabaebb14d6f",
   "metadata": {},
   "outputs": [],
   "source": [
    "daily = daily.join(pd.Series(1, index=holidays, name='holiday'), how='left')"
   ]
  },
  {
   "cell_type": "code",
   "execution_count": 70,
   "id": "87243fb9-4cbf-4694-adb3-b3762b3885bc",
   "metadata": {},
   "outputs": [
    {
     "data": {
      "text/html": [
       "<div>\n",
       "<style scoped>\n",
       "    .dataframe tbody tr th:only-of-type {\n",
       "        vertical-align: middle;\n",
       "    }\n",
       "\n",
       "    .dataframe tbody tr th {\n",
       "        vertical-align: top;\n",
       "    }\n",
       "\n",
       "    .dataframe thead th {\n",
       "        text-align: right;\n",
       "    }\n",
       "</style>\n",
       "<table border=\"1\" class=\"dataframe\">\n",
       "  <thead>\n",
       "    <tr style=\"text-align: right;\">\n",
       "      <th></th>\n",
       "      <th>Total</th>\n",
       "      <th>Mon</th>\n",
       "      <th>Tue</th>\n",
       "      <th>Wed</th>\n",
       "      <th>Thu</th>\n",
       "      <th>Fri</th>\n",
       "      <th>Sat</th>\n",
       "      <th>Sun</th>\n",
       "      <th>holiday</th>\n",
       "    </tr>\n",
       "    <tr>\n",
       "      <th>Date</th>\n",
       "      <th></th>\n",
       "      <th></th>\n",
       "      <th></th>\n",
       "      <th></th>\n",
       "      <th></th>\n",
       "      <th></th>\n",
       "      <th></th>\n",
       "      <th></th>\n",
       "      <th></th>\n",
       "    </tr>\n",
       "  </thead>\n",
       "  <tbody>\n",
       "    <tr>\n",
       "      <th>2012-10-03</th>\n",
       "      <td>14084.0</td>\n",
       "      <td>0.0</td>\n",
       "      <td>0.0</td>\n",
       "      <td>1.0</td>\n",
       "      <td>0.0</td>\n",
       "      <td>0.0</td>\n",
       "      <td>0.0</td>\n",
       "      <td>0.0</td>\n",
       "      <td>NaN</td>\n",
       "    </tr>\n",
       "    <tr>\n",
       "      <th>2012-10-04</th>\n",
       "      <td>13900.0</td>\n",
       "      <td>0.0</td>\n",
       "      <td>0.0</td>\n",
       "      <td>0.0</td>\n",
       "      <td>1.0</td>\n",
       "      <td>0.0</td>\n",
       "      <td>0.0</td>\n",
       "      <td>0.0</td>\n",
       "      <td>NaN</td>\n",
       "    </tr>\n",
       "    <tr>\n",
       "      <th>2012-10-05</th>\n",
       "      <td>12592.0</td>\n",
       "      <td>0.0</td>\n",
       "      <td>0.0</td>\n",
       "      <td>0.0</td>\n",
       "      <td>0.0</td>\n",
       "      <td>1.0</td>\n",
       "      <td>0.0</td>\n",
       "      <td>0.0</td>\n",
       "      <td>NaN</td>\n",
       "    </tr>\n",
       "    <tr>\n",
       "      <th>2012-10-06</th>\n",
       "      <td>8024.0</td>\n",
       "      <td>0.0</td>\n",
       "      <td>0.0</td>\n",
       "      <td>0.0</td>\n",
       "      <td>0.0</td>\n",
       "      <td>0.0</td>\n",
       "      <td>1.0</td>\n",
       "      <td>0.0</td>\n",
       "      <td>NaN</td>\n",
       "    </tr>\n",
       "    <tr>\n",
       "      <th>2012-10-07</th>\n",
       "      <td>8568.0</td>\n",
       "      <td>0.0</td>\n",
       "      <td>0.0</td>\n",
       "      <td>0.0</td>\n",
       "      <td>0.0</td>\n",
       "      <td>0.0</td>\n",
       "      <td>0.0</td>\n",
       "      <td>1.0</td>\n",
       "      <td>NaN</td>\n",
       "    </tr>\n",
       "    <tr>\n",
       "      <th>...</th>\n",
       "      <td>...</td>\n",
       "      <td>...</td>\n",
       "      <td>...</td>\n",
       "      <td>...</td>\n",
       "      <td>...</td>\n",
       "      <td>...</td>\n",
       "      <td>...</td>\n",
       "      <td>...</td>\n",
       "      <td>...</td>\n",
       "    </tr>\n",
       "    <tr>\n",
       "      <th>2022-03-27</th>\n",
       "      <td>4738.0</td>\n",
       "      <td>0.0</td>\n",
       "      <td>0.0</td>\n",
       "      <td>0.0</td>\n",
       "      <td>0.0</td>\n",
       "      <td>0.0</td>\n",
       "      <td>0.0</td>\n",
       "      <td>1.0</td>\n",
       "      <td>NaN</td>\n",
       "    </tr>\n",
       "    <tr>\n",
       "      <th>2022-03-28</th>\n",
       "      <td>4020.0</td>\n",
       "      <td>1.0</td>\n",
       "      <td>0.0</td>\n",
       "      <td>0.0</td>\n",
       "      <td>0.0</td>\n",
       "      <td>0.0</td>\n",
       "      <td>0.0</td>\n",
       "      <td>0.0</td>\n",
       "      <td>NaN</td>\n",
       "    </tr>\n",
       "    <tr>\n",
       "      <th>2022-03-29</th>\n",
       "      <td>5712.0</td>\n",
       "      <td>0.0</td>\n",
       "      <td>1.0</td>\n",
       "      <td>0.0</td>\n",
       "      <td>0.0</td>\n",
       "      <td>0.0</td>\n",
       "      <td>0.0</td>\n",
       "      <td>0.0</td>\n",
       "      <td>NaN</td>\n",
       "    </tr>\n",
       "    <tr>\n",
       "      <th>2022-03-30</th>\n",
       "      <td>3776.0</td>\n",
       "      <td>0.0</td>\n",
       "      <td>0.0</td>\n",
       "      <td>1.0</td>\n",
       "      <td>0.0</td>\n",
       "      <td>0.0</td>\n",
       "      <td>0.0</td>\n",
       "      <td>0.0</td>\n",
       "      <td>NaN</td>\n",
       "    </tr>\n",
       "    <tr>\n",
       "      <th>2022-03-31</th>\n",
       "      <td>5324.0</td>\n",
       "      <td>0.0</td>\n",
       "      <td>0.0</td>\n",
       "      <td>0.0</td>\n",
       "      <td>1.0</td>\n",
       "      <td>0.0</td>\n",
       "      <td>0.0</td>\n",
       "      <td>0.0</td>\n",
       "      <td>NaN</td>\n",
       "    </tr>\n",
       "  </tbody>\n",
       "</table>\n",
       "<p>3467 rows × 9 columns</p>\n",
       "</div>"
      ],
      "text/plain": [
       "              Total  Mon  Tue  Wed  Thu  Fri  Sat  Sun  holiday\n",
       "Date                                                           \n",
       "2012-10-03  14084.0  0.0  0.0  1.0  0.0  0.0  0.0  0.0      NaN\n",
       "2012-10-04  13900.0  0.0  0.0  0.0  1.0  0.0  0.0  0.0      NaN\n",
       "2012-10-05  12592.0  0.0  0.0  0.0  0.0  1.0  0.0  0.0      NaN\n",
       "2012-10-06   8024.0  0.0  0.0  0.0  0.0  0.0  1.0  0.0      NaN\n",
       "2012-10-07   8568.0  0.0  0.0  0.0  0.0  0.0  0.0  1.0      NaN\n",
       "...             ...  ...  ...  ...  ...  ...  ...  ...      ...\n",
       "2022-03-27   4738.0  0.0  0.0  0.0  0.0  0.0  0.0  1.0      NaN\n",
       "2022-03-28   4020.0  1.0  0.0  0.0  0.0  0.0  0.0  0.0      NaN\n",
       "2022-03-29   5712.0  0.0  1.0  0.0  0.0  0.0  0.0  0.0      NaN\n",
       "2022-03-30   3776.0  0.0  0.0  1.0  0.0  0.0  0.0  0.0      NaN\n",
       "2022-03-31   5324.0  0.0  0.0  0.0  1.0  0.0  0.0  0.0      NaN\n",
       "\n",
       "[3467 rows x 9 columns]"
      ]
     },
     "execution_count": 70,
     "metadata": {},
     "output_type": "execute_result"
    }
   ],
   "source": [
    "daily"
   ]
  },
  {
   "cell_type": "code",
   "execution_count": 71,
   "id": "ee79eb17-3c30-4abd-b080-1573d354dcce",
   "metadata": {},
   "outputs": [],
   "source": [
    "daily['holiday'].fillna(0, inplace=True)"
   ]
  },
  {
   "cell_type": "code",
   "execution_count": 72,
   "id": "2731778e-5f55-4113-8edf-f4b917dc6d96",
   "metadata": {},
   "outputs": [
    {
     "data": {
      "text/html": [
       "<div>\n",
       "<style scoped>\n",
       "    .dataframe tbody tr th:only-of-type {\n",
       "        vertical-align: middle;\n",
       "    }\n",
       "\n",
       "    .dataframe tbody tr th {\n",
       "        vertical-align: top;\n",
       "    }\n",
       "\n",
       "    .dataframe thead th {\n",
       "        text-align: right;\n",
       "    }\n",
       "</style>\n",
       "<table border=\"1\" class=\"dataframe\">\n",
       "  <thead>\n",
       "    <tr style=\"text-align: right;\">\n",
       "      <th></th>\n",
       "      <th>Total</th>\n",
       "      <th>Mon</th>\n",
       "      <th>Tue</th>\n",
       "      <th>Wed</th>\n",
       "      <th>Thu</th>\n",
       "      <th>Fri</th>\n",
       "      <th>Sat</th>\n",
       "      <th>Sun</th>\n",
       "      <th>holiday</th>\n",
       "    </tr>\n",
       "    <tr>\n",
       "      <th>Date</th>\n",
       "      <th></th>\n",
       "      <th></th>\n",
       "      <th></th>\n",
       "      <th></th>\n",
       "      <th></th>\n",
       "      <th></th>\n",
       "      <th></th>\n",
       "      <th></th>\n",
       "      <th></th>\n",
       "    </tr>\n",
       "  </thead>\n",
       "  <tbody>\n",
       "    <tr>\n",
       "      <th>2012-10-03</th>\n",
       "      <td>14084.0</td>\n",
       "      <td>0.0</td>\n",
       "      <td>0.0</td>\n",
       "      <td>1.0</td>\n",
       "      <td>0.0</td>\n",
       "      <td>0.0</td>\n",
       "      <td>0.0</td>\n",
       "      <td>0.0</td>\n",
       "      <td>0.0</td>\n",
       "    </tr>\n",
       "    <tr>\n",
       "      <th>2012-10-04</th>\n",
       "      <td>13900.0</td>\n",
       "      <td>0.0</td>\n",
       "      <td>0.0</td>\n",
       "      <td>0.0</td>\n",
       "      <td>1.0</td>\n",
       "      <td>0.0</td>\n",
       "      <td>0.0</td>\n",
       "      <td>0.0</td>\n",
       "      <td>0.0</td>\n",
       "    </tr>\n",
       "    <tr>\n",
       "      <th>2012-10-05</th>\n",
       "      <td>12592.0</td>\n",
       "      <td>0.0</td>\n",
       "      <td>0.0</td>\n",
       "      <td>0.0</td>\n",
       "      <td>0.0</td>\n",
       "      <td>1.0</td>\n",
       "      <td>0.0</td>\n",
       "      <td>0.0</td>\n",
       "      <td>0.0</td>\n",
       "    </tr>\n",
       "    <tr>\n",
       "      <th>2012-10-06</th>\n",
       "      <td>8024.0</td>\n",
       "      <td>0.0</td>\n",
       "      <td>0.0</td>\n",
       "      <td>0.0</td>\n",
       "      <td>0.0</td>\n",
       "      <td>0.0</td>\n",
       "      <td>1.0</td>\n",
       "      <td>0.0</td>\n",
       "      <td>0.0</td>\n",
       "    </tr>\n",
       "    <tr>\n",
       "      <th>2012-10-07</th>\n",
       "      <td>8568.0</td>\n",
       "      <td>0.0</td>\n",
       "      <td>0.0</td>\n",
       "      <td>0.0</td>\n",
       "      <td>0.0</td>\n",
       "      <td>0.0</td>\n",
       "      <td>0.0</td>\n",
       "      <td>1.0</td>\n",
       "      <td>0.0</td>\n",
       "    </tr>\n",
       "    <tr>\n",
       "      <th>...</th>\n",
       "      <td>...</td>\n",
       "      <td>...</td>\n",
       "      <td>...</td>\n",
       "      <td>...</td>\n",
       "      <td>...</td>\n",
       "      <td>...</td>\n",
       "      <td>...</td>\n",
       "      <td>...</td>\n",
       "      <td>...</td>\n",
       "    </tr>\n",
       "    <tr>\n",
       "      <th>2022-03-27</th>\n",
       "      <td>4738.0</td>\n",
       "      <td>0.0</td>\n",
       "      <td>0.0</td>\n",
       "      <td>0.0</td>\n",
       "      <td>0.0</td>\n",
       "      <td>0.0</td>\n",
       "      <td>0.0</td>\n",
       "      <td>1.0</td>\n",
       "      <td>0.0</td>\n",
       "    </tr>\n",
       "    <tr>\n",
       "      <th>2022-03-28</th>\n",
       "      <td>4020.0</td>\n",
       "      <td>1.0</td>\n",
       "      <td>0.0</td>\n",
       "      <td>0.0</td>\n",
       "      <td>0.0</td>\n",
       "      <td>0.0</td>\n",
       "      <td>0.0</td>\n",
       "      <td>0.0</td>\n",
       "      <td>0.0</td>\n",
       "    </tr>\n",
       "    <tr>\n",
       "      <th>2022-03-29</th>\n",
       "      <td>5712.0</td>\n",
       "      <td>0.0</td>\n",
       "      <td>1.0</td>\n",
       "      <td>0.0</td>\n",
       "      <td>0.0</td>\n",
       "      <td>0.0</td>\n",
       "      <td>0.0</td>\n",
       "      <td>0.0</td>\n",
       "      <td>0.0</td>\n",
       "    </tr>\n",
       "    <tr>\n",
       "      <th>2022-03-30</th>\n",
       "      <td>3776.0</td>\n",
       "      <td>0.0</td>\n",
       "      <td>0.0</td>\n",
       "      <td>1.0</td>\n",
       "      <td>0.0</td>\n",
       "      <td>0.0</td>\n",
       "      <td>0.0</td>\n",
       "      <td>0.0</td>\n",
       "      <td>0.0</td>\n",
       "    </tr>\n",
       "    <tr>\n",
       "      <th>2022-03-31</th>\n",
       "      <td>5324.0</td>\n",
       "      <td>0.0</td>\n",
       "      <td>0.0</td>\n",
       "      <td>0.0</td>\n",
       "      <td>1.0</td>\n",
       "      <td>0.0</td>\n",
       "      <td>0.0</td>\n",
       "      <td>0.0</td>\n",
       "      <td>0.0</td>\n",
       "    </tr>\n",
       "  </tbody>\n",
       "</table>\n",
       "<p>3467 rows × 9 columns</p>\n",
       "</div>"
      ],
      "text/plain": [
       "              Total  Mon  Tue  Wed  Thu  Fri  Sat  Sun  holiday\n",
       "Date                                                           \n",
       "2012-10-03  14084.0  0.0  0.0  1.0  0.0  0.0  0.0  0.0      0.0\n",
       "2012-10-04  13900.0  0.0  0.0  0.0  1.0  0.0  0.0  0.0      0.0\n",
       "2012-10-05  12592.0  0.0  0.0  0.0  0.0  1.0  0.0  0.0      0.0\n",
       "2012-10-06   8024.0  0.0  0.0  0.0  0.0  0.0  1.0  0.0      0.0\n",
       "2012-10-07   8568.0  0.0  0.0  0.0  0.0  0.0  0.0  1.0      0.0\n",
       "...             ...  ...  ...  ...  ...  ...  ...  ...      ...\n",
       "2022-03-27   4738.0  0.0  0.0  0.0  0.0  0.0  0.0  1.0      0.0\n",
       "2022-03-28   4020.0  1.0  0.0  0.0  0.0  0.0  0.0  0.0      0.0\n",
       "2022-03-29   5712.0  0.0  1.0  0.0  0.0  0.0  0.0  0.0      0.0\n",
       "2022-03-30   3776.0  0.0  0.0  1.0  0.0  0.0  0.0  0.0      0.0\n",
       "2022-03-31   5324.0  0.0  0.0  0.0  1.0  0.0  0.0  0.0      0.0\n",
       "\n",
       "[3467 rows x 9 columns]"
      ]
     },
     "execution_count": 72,
     "metadata": {},
     "output_type": "execute_result"
    }
   ],
   "source": [
    "daily"
   ]
  },
  {
   "cell_type": "code",
   "execution_count": 82,
   "id": "e63285db-02eb-4d21-92f7-f57b2329eefa",
   "metadata": {},
   "outputs": [
    {
     "data": {
      "text/html": [
       "<div>\n",
       "<style scoped>\n",
       "    .dataframe tbody tr th:only-of-type {\n",
       "        vertical-align: middle;\n",
       "    }\n",
       "\n",
       "    .dataframe tbody tr th {\n",
       "        vertical-align: top;\n",
       "    }\n",
       "\n",
       "    .dataframe thead th {\n",
       "        text-align: right;\n",
       "    }\n",
       "</style>\n",
       "<table border=\"1\" class=\"dataframe\">\n",
       "  <thead>\n",
       "    <tr style=\"text-align: right;\">\n",
       "      <th></th>\n",
       "      <th>Total</th>\n",
       "      <th>Mon</th>\n",
       "      <th>Tue</th>\n",
       "      <th>Wed</th>\n",
       "      <th>Thu</th>\n",
       "      <th>Fri</th>\n",
       "      <th>Sat</th>\n",
       "      <th>Sun</th>\n",
       "      <th>holiday</th>\n",
       "      <th>predicted</th>\n",
       "    </tr>\n",
       "    <tr>\n",
       "      <th>Date</th>\n",
       "      <th></th>\n",
       "      <th></th>\n",
       "      <th></th>\n",
       "      <th></th>\n",
       "      <th></th>\n",
       "      <th></th>\n",
       "      <th></th>\n",
       "      <th></th>\n",
       "      <th></th>\n",
       "      <th></th>\n",
       "    </tr>\n",
       "  </thead>\n",
       "  <tbody>\n",
       "    <tr>\n",
       "      <th>2012-10-08</th>\n",
       "      <td>14148.0</td>\n",
       "      <td>1.0</td>\n",
       "      <td>0.0</td>\n",
       "      <td>0.0</td>\n",
       "      <td>0.0</td>\n",
       "      <td>0.0</td>\n",
       "      <td>0.0</td>\n",
       "      <td>0.0</td>\n",
       "      <td>1.0</td>\n",
       "      <td>6904.258584</td>\n",
       "    </tr>\n",
       "    <tr>\n",
       "      <th>2012-11-12</th>\n",
       "      <td>6524.0</td>\n",
       "      <td>1.0</td>\n",
       "      <td>0.0</td>\n",
       "      <td>0.0</td>\n",
       "      <td>0.0</td>\n",
       "      <td>0.0</td>\n",
       "      <td>0.0</td>\n",
       "      <td>0.0</td>\n",
       "      <td>1.0</td>\n",
       "      <td>6904.258584</td>\n",
       "    </tr>\n",
       "    <tr>\n",
       "      <th>2012-11-22</th>\n",
       "      <td>2216.0</td>\n",
       "      <td>0.0</td>\n",
       "      <td>0.0</td>\n",
       "      <td>0.0</td>\n",
       "      <td>1.0</td>\n",
       "      <td>0.0</td>\n",
       "      <td>0.0</td>\n",
       "      <td>0.0</td>\n",
       "      <td>1.0</td>\n",
       "      <td>6929.109148</td>\n",
       "    </tr>\n",
       "    <tr>\n",
       "      <th>2012-12-25</th>\n",
       "      <td>392.0</td>\n",
       "      <td>0.0</td>\n",
       "      <td>1.0</td>\n",
       "      <td>0.0</td>\n",
       "      <td>0.0</td>\n",
       "      <td>0.0</td>\n",
       "      <td>0.0</td>\n",
       "      <td>0.0</td>\n",
       "      <td>1.0</td>\n",
       "      <td>7529.647822</td>\n",
       "    </tr>\n",
       "    <tr>\n",
       "      <th>2013-01-01</th>\n",
       "      <td>2712.0</td>\n",
       "      <td>0.0</td>\n",
       "      <td>1.0</td>\n",
       "      <td>0.0</td>\n",
       "      <td>0.0</td>\n",
       "      <td>0.0</td>\n",
       "      <td>0.0</td>\n",
       "      <td>0.0</td>\n",
       "      <td>1.0</td>\n",
       "      <td>7529.647822</td>\n",
       "    </tr>\n",
       "    <tr>\n",
       "      <th>2013-01-21</th>\n",
       "      <td>5104.0</td>\n",
       "      <td>1.0</td>\n",
       "      <td>0.0</td>\n",
       "      <td>0.0</td>\n",
       "      <td>0.0</td>\n",
       "      <td>0.0</td>\n",
       "      <td>0.0</td>\n",
       "      <td>0.0</td>\n",
       "      <td>1.0</td>\n",
       "      <td>6904.258584</td>\n",
       "    </tr>\n",
       "    <tr>\n",
       "      <th>2013-02-18</th>\n",
       "      <td>5924.0</td>\n",
       "      <td>1.0</td>\n",
       "      <td>0.0</td>\n",
       "      <td>0.0</td>\n",
       "      <td>0.0</td>\n",
       "      <td>0.0</td>\n",
       "      <td>0.0</td>\n",
       "      <td>0.0</td>\n",
       "      <td>1.0</td>\n",
       "      <td>6904.258584</td>\n",
       "    </tr>\n",
       "    <tr>\n",
       "      <th>2013-05-27</th>\n",
       "      <td>3076.0</td>\n",
       "      <td>1.0</td>\n",
       "      <td>0.0</td>\n",
       "      <td>0.0</td>\n",
       "      <td>0.0</td>\n",
       "      <td>0.0</td>\n",
       "      <td>0.0</td>\n",
       "      <td>0.0</td>\n",
       "      <td>1.0</td>\n",
       "      <td>6904.258584</td>\n",
       "    </tr>\n",
       "    <tr>\n",
       "      <th>2013-07-04</th>\n",
       "      <td>14996.0</td>\n",
       "      <td>0.0</td>\n",
       "      <td>0.0</td>\n",
       "      <td>0.0</td>\n",
       "      <td>1.0</td>\n",
       "      <td>0.0</td>\n",
       "      <td>0.0</td>\n",
       "      <td>0.0</td>\n",
       "      <td>1.0</td>\n",
       "      <td>6929.109148</td>\n",
       "    </tr>\n",
       "    <tr>\n",
       "      <th>2013-09-02</th>\n",
       "      <td>9300.0</td>\n",
       "      <td>1.0</td>\n",
       "      <td>0.0</td>\n",
       "      <td>0.0</td>\n",
       "      <td>0.0</td>\n",
       "      <td>0.0</td>\n",
       "      <td>0.0</td>\n",
       "      <td>0.0</td>\n",
       "      <td>1.0</td>\n",
       "      <td>6904.258584</td>\n",
       "    </tr>\n",
       "    <tr>\n",
       "      <th>2013-10-14</th>\n",
       "      <td>13620.0</td>\n",
       "      <td>1.0</td>\n",
       "      <td>0.0</td>\n",
       "      <td>0.0</td>\n",
       "      <td>0.0</td>\n",
       "      <td>0.0</td>\n",
       "      <td>0.0</td>\n",
       "      <td>0.0</td>\n",
       "      <td>1.0</td>\n",
       "      <td>6904.258584</td>\n",
       "    </tr>\n",
       "    <tr>\n",
       "      <th>2013-11-11</th>\n",
       "      <td>10644.0</td>\n",
       "      <td>1.0</td>\n",
       "      <td>0.0</td>\n",
       "      <td>0.0</td>\n",
       "      <td>0.0</td>\n",
       "      <td>0.0</td>\n",
       "      <td>0.0</td>\n",
       "      <td>0.0</td>\n",
       "      <td>1.0</td>\n",
       "      <td>6904.258584</td>\n",
       "    </tr>\n",
       "    <tr>\n",
       "      <th>2013-11-28</th>\n",
       "      <td>2328.0</td>\n",
       "      <td>0.0</td>\n",
       "      <td>0.0</td>\n",
       "      <td>0.0</td>\n",
       "      <td>1.0</td>\n",
       "      <td>0.0</td>\n",
       "      <td>0.0</td>\n",
       "      <td>0.0</td>\n",
       "      <td>1.0</td>\n",
       "      <td>6929.109148</td>\n",
       "    </tr>\n",
       "    <tr>\n",
       "      <th>2013-12-25</th>\n",
       "      <td>1484.0</td>\n",
       "      <td>0.0</td>\n",
       "      <td>0.0</td>\n",
       "      <td>1.0</td>\n",
       "      <td>0.0</td>\n",
       "      <td>0.0</td>\n",
       "      <td>0.0</td>\n",
       "      <td>0.0</td>\n",
       "      <td>1.0</td>\n",
       "      <td>7482.684510</td>\n",
       "    </tr>\n",
       "    <tr>\n",
       "      <th>2014-01-01</th>\n",
       "      <td>3656.0</td>\n",
       "      <td>0.0</td>\n",
       "      <td>0.0</td>\n",
       "      <td>1.0</td>\n",
       "      <td>0.0</td>\n",
       "      <td>0.0</td>\n",
       "      <td>0.0</td>\n",
       "      <td>0.0</td>\n",
       "      <td>1.0</td>\n",
       "      <td>7482.684510</td>\n",
       "    </tr>\n",
       "    <tr>\n",
       "      <th>2014-01-20</th>\n",
       "      <td>7496.0</td>\n",
       "      <td>1.0</td>\n",
       "      <td>0.0</td>\n",
       "      <td>0.0</td>\n",
       "      <td>0.0</td>\n",
       "      <td>0.0</td>\n",
       "      <td>0.0</td>\n",
       "      <td>0.0</td>\n",
       "      <td>1.0</td>\n",
       "      <td>6904.258584</td>\n",
       "    </tr>\n",
       "    <tr>\n",
       "      <th>2014-02-17</th>\n",
       "      <td>4112.0</td>\n",
       "      <td>1.0</td>\n",
       "      <td>0.0</td>\n",
       "      <td>0.0</td>\n",
       "      <td>0.0</td>\n",
       "      <td>0.0</td>\n",
       "      <td>0.0</td>\n",
       "      <td>0.0</td>\n",
       "      <td>1.0</td>\n",
       "      <td>6904.258584</td>\n",
       "    </tr>\n",
       "    <tr>\n",
       "      <th>2014-05-26</th>\n",
       "      <td>9156.0</td>\n",
       "      <td>1.0</td>\n",
       "      <td>0.0</td>\n",
       "      <td>0.0</td>\n",
       "      <td>0.0</td>\n",
       "      <td>0.0</td>\n",
       "      <td>0.0</td>\n",
       "      <td>0.0</td>\n",
       "      <td>1.0</td>\n",
       "      <td>6904.258584</td>\n",
       "    </tr>\n",
       "    <tr>\n",
       "      <th>2014-07-04</th>\n",
       "      <td>13136.0</td>\n",
       "      <td>0.0</td>\n",
       "      <td>0.0</td>\n",
       "      <td>0.0</td>\n",
       "      <td>0.0</td>\n",
       "      <td>1.0</td>\n",
       "      <td>0.0</td>\n",
       "      <td>0.0</td>\n",
       "      <td>1.0</td>\n",
       "      <td>5868.646115</td>\n",
       "    </tr>\n",
       "    <tr>\n",
       "      <th>2014-09-01</th>\n",
       "      <td>9424.0</td>\n",
       "      <td>1.0</td>\n",
       "      <td>0.0</td>\n",
       "      <td>0.0</td>\n",
       "      <td>0.0</td>\n",
       "      <td>0.0</td>\n",
       "      <td>0.0</td>\n",
       "      <td>0.0</td>\n",
       "      <td>1.0</td>\n",
       "      <td>6904.258584</td>\n",
       "    </tr>\n",
       "    <tr>\n",
       "      <th>2014-10-13</th>\n",
       "      <td>13420.0</td>\n",
       "      <td>1.0</td>\n",
       "      <td>0.0</td>\n",
       "      <td>0.0</td>\n",
       "      <td>0.0</td>\n",
       "      <td>0.0</td>\n",
       "      <td>0.0</td>\n",
       "      <td>0.0</td>\n",
       "      <td>1.0</td>\n",
       "      <td>6904.258584</td>\n",
       "    </tr>\n",
       "    <tr>\n",
       "      <th>2014-11-11</th>\n",
       "      <td>11164.0</td>\n",
       "      <td>0.0</td>\n",
       "      <td>1.0</td>\n",
       "      <td>0.0</td>\n",
       "      <td>0.0</td>\n",
       "      <td>0.0</td>\n",
       "      <td>0.0</td>\n",
       "      <td>0.0</td>\n",
       "      <td>1.0</td>\n",
       "      <td>7529.647822</td>\n",
       "    </tr>\n",
       "    <tr>\n",
       "      <th>2014-11-27</th>\n",
       "      <td>2000.0</td>\n",
       "      <td>0.0</td>\n",
       "      <td>0.0</td>\n",
       "      <td>0.0</td>\n",
       "      <td>1.0</td>\n",
       "      <td>0.0</td>\n",
       "      <td>0.0</td>\n",
       "      <td>0.0</td>\n",
       "      <td>1.0</td>\n",
       "      <td>6929.109148</td>\n",
       "    </tr>\n",
       "    <tr>\n",
       "      <th>2014-12-25</th>\n",
       "      <td>1804.0</td>\n",
       "      <td>0.0</td>\n",
       "      <td>0.0</td>\n",
       "      <td>0.0</td>\n",
       "      <td>1.0</td>\n",
       "      <td>0.0</td>\n",
       "      <td>0.0</td>\n",
       "      <td>0.0</td>\n",
       "      <td>1.0</td>\n",
       "      <td>6929.109148</td>\n",
       "    </tr>\n",
       "    <tr>\n",
       "      <th>2015-01-01</th>\n",
       "      <td>2844.0</td>\n",
       "      <td>0.0</td>\n",
       "      <td>0.0</td>\n",
       "      <td>0.0</td>\n",
       "      <td>1.0</td>\n",
       "      <td>0.0</td>\n",
       "      <td>0.0</td>\n",
       "      <td>0.0</td>\n",
       "      <td>1.0</td>\n",
       "      <td>6929.109148</td>\n",
       "    </tr>\n",
       "    <tr>\n",
       "      <th>2015-01-19</th>\n",
       "      <td>7928.0</td>\n",
       "      <td>1.0</td>\n",
       "      <td>0.0</td>\n",
       "      <td>0.0</td>\n",
       "      <td>0.0</td>\n",
       "      <td>0.0</td>\n",
       "      <td>0.0</td>\n",
       "      <td>0.0</td>\n",
       "      <td>1.0</td>\n",
       "      <td>6904.258584</td>\n",
       "    </tr>\n",
       "    <tr>\n",
       "      <th>2015-02-16</th>\n",
       "      <td>8844.0</td>\n",
       "      <td>1.0</td>\n",
       "      <td>0.0</td>\n",
       "      <td>0.0</td>\n",
       "      <td>0.0</td>\n",
       "      <td>0.0</td>\n",
       "      <td>0.0</td>\n",
       "      <td>0.0</td>\n",
       "      <td>1.0</td>\n",
       "      <td>6904.258584</td>\n",
       "    </tr>\n",
       "    <tr>\n",
       "      <th>2015-05-25</th>\n",
       "      <td>6948.0</td>\n",
       "      <td>1.0</td>\n",
       "      <td>0.0</td>\n",
       "      <td>0.0</td>\n",
       "      <td>0.0</td>\n",
       "      <td>0.0</td>\n",
       "      <td>0.0</td>\n",
       "      <td>0.0</td>\n",
       "      <td>1.0</td>\n",
       "      <td>6904.258584</td>\n",
       "    </tr>\n",
       "    <tr>\n",
       "      <th>2015-07-03</th>\n",
       "      <td>9252.0</td>\n",
       "      <td>0.0</td>\n",
       "      <td>0.0</td>\n",
       "      <td>0.0</td>\n",
       "      <td>0.0</td>\n",
       "      <td>1.0</td>\n",
       "      <td>0.0</td>\n",
       "      <td>0.0</td>\n",
       "      <td>1.0</td>\n",
       "      <td>5868.646115</td>\n",
       "    </tr>\n",
       "    <tr>\n",
       "      <th>2015-09-07</th>\n",
       "      <td>8020.0</td>\n",
       "      <td>1.0</td>\n",
       "      <td>0.0</td>\n",
       "      <td>0.0</td>\n",
       "      <td>0.0</td>\n",
       "      <td>0.0</td>\n",
       "      <td>0.0</td>\n",
       "      <td>0.0</td>\n",
       "      <td>1.0</td>\n",
       "      <td>6904.258584</td>\n",
       "    </tr>\n",
       "    <tr>\n",
       "      <th>2015-10-12</th>\n",
       "      <td>13672.0</td>\n",
       "      <td>1.0</td>\n",
       "      <td>0.0</td>\n",
       "      <td>0.0</td>\n",
       "      <td>0.0</td>\n",
       "      <td>0.0</td>\n",
       "      <td>0.0</td>\n",
       "      <td>0.0</td>\n",
       "      <td>1.0</td>\n",
       "      <td>6904.258584</td>\n",
       "    </tr>\n",
       "    <tr>\n",
       "      <th>2015-11-11</th>\n",
       "      <td>10516.0</td>\n",
       "      <td>0.0</td>\n",
       "      <td>0.0</td>\n",
       "      <td>1.0</td>\n",
       "      <td>0.0</td>\n",
       "      <td>0.0</td>\n",
       "      <td>0.0</td>\n",
       "      <td>0.0</td>\n",
       "      <td>1.0</td>\n",
       "      <td>7482.684510</td>\n",
       "    </tr>\n",
       "    <tr>\n",
       "      <th>2015-11-26</th>\n",
       "      <td>2128.0</td>\n",
       "      <td>0.0</td>\n",
       "      <td>0.0</td>\n",
       "      <td>0.0</td>\n",
       "      <td>1.0</td>\n",
       "      <td>0.0</td>\n",
       "      <td>0.0</td>\n",
       "      <td>0.0</td>\n",
       "      <td>1.0</td>\n",
       "      <td>6929.109148</td>\n",
       "    </tr>\n",
       "    <tr>\n",
       "      <th>2015-12-25</th>\n",
       "      <td>1056.0</td>\n",
       "      <td>0.0</td>\n",
       "      <td>0.0</td>\n",
       "      <td>0.0</td>\n",
       "      <td>0.0</td>\n",
       "      <td>1.0</td>\n",
       "      <td>0.0</td>\n",
       "      <td>0.0</td>\n",
       "      <td>1.0</td>\n",
       "      <td>5868.646115</td>\n",
       "    </tr>\n",
       "    <tr>\n",
       "      <th>2016-01-01</th>\n",
       "      <td>2248.0</td>\n",
       "      <td>0.0</td>\n",
       "      <td>0.0</td>\n",
       "      <td>0.0</td>\n",
       "      <td>0.0</td>\n",
       "      <td>1.0</td>\n",
       "      <td>0.0</td>\n",
       "      <td>0.0</td>\n",
       "      <td>1.0</td>\n",
       "      <td>5868.646115</td>\n",
       "    </tr>\n",
       "  </tbody>\n",
       "</table>\n",
       "</div>"
      ],
      "text/plain": [
       "              Total  Mon  Tue  Wed  Thu  Fri  Sat  Sun  holiday    predicted\n",
       "Date                                                                        \n",
       "2012-10-08  14148.0  1.0  0.0  0.0  0.0  0.0  0.0  0.0      1.0  6904.258584\n",
       "2012-11-12   6524.0  1.0  0.0  0.0  0.0  0.0  0.0  0.0      1.0  6904.258584\n",
       "2012-11-22   2216.0  0.0  0.0  0.0  1.0  0.0  0.0  0.0      1.0  6929.109148\n",
       "2012-12-25    392.0  0.0  1.0  0.0  0.0  0.0  0.0  0.0      1.0  7529.647822\n",
       "2013-01-01   2712.0  0.0  1.0  0.0  0.0  0.0  0.0  0.0      1.0  7529.647822\n",
       "2013-01-21   5104.0  1.0  0.0  0.0  0.0  0.0  0.0  0.0      1.0  6904.258584\n",
       "2013-02-18   5924.0  1.0  0.0  0.0  0.0  0.0  0.0  0.0      1.0  6904.258584\n",
       "2013-05-27   3076.0  1.0  0.0  0.0  0.0  0.0  0.0  0.0      1.0  6904.258584\n",
       "2013-07-04  14996.0  0.0  0.0  0.0  1.0  0.0  0.0  0.0      1.0  6929.109148\n",
       "2013-09-02   9300.0  1.0  0.0  0.0  0.0  0.0  0.0  0.0      1.0  6904.258584\n",
       "2013-10-14  13620.0  1.0  0.0  0.0  0.0  0.0  0.0  0.0      1.0  6904.258584\n",
       "2013-11-11  10644.0  1.0  0.0  0.0  0.0  0.0  0.0  0.0      1.0  6904.258584\n",
       "2013-11-28   2328.0  0.0  0.0  0.0  1.0  0.0  0.0  0.0      1.0  6929.109148\n",
       "2013-12-25   1484.0  0.0  0.0  1.0  0.0  0.0  0.0  0.0      1.0  7482.684510\n",
       "2014-01-01   3656.0  0.0  0.0  1.0  0.0  0.0  0.0  0.0      1.0  7482.684510\n",
       "2014-01-20   7496.0  1.0  0.0  0.0  0.0  0.0  0.0  0.0      1.0  6904.258584\n",
       "2014-02-17   4112.0  1.0  0.0  0.0  0.0  0.0  0.0  0.0      1.0  6904.258584\n",
       "2014-05-26   9156.0  1.0  0.0  0.0  0.0  0.0  0.0  0.0      1.0  6904.258584\n",
       "2014-07-04  13136.0  0.0  0.0  0.0  0.0  1.0  0.0  0.0      1.0  5868.646115\n",
       "2014-09-01   9424.0  1.0  0.0  0.0  0.0  0.0  0.0  0.0      1.0  6904.258584\n",
       "2014-10-13  13420.0  1.0  0.0  0.0  0.0  0.0  0.0  0.0      1.0  6904.258584\n",
       "2014-11-11  11164.0  0.0  1.0  0.0  0.0  0.0  0.0  0.0      1.0  7529.647822\n",
       "2014-11-27   2000.0  0.0  0.0  0.0  1.0  0.0  0.0  0.0      1.0  6929.109148\n",
       "2014-12-25   1804.0  0.0  0.0  0.0  1.0  0.0  0.0  0.0      1.0  6929.109148\n",
       "2015-01-01   2844.0  0.0  0.0  0.0  1.0  0.0  0.0  0.0      1.0  6929.109148\n",
       "2015-01-19   7928.0  1.0  0.0  0.0  0.0  0.0  0.0  0.0      1.0  6904.258584\n",
       "2015-02-16   8844.0  1.0  0.0  0.0  0.0  0.0  0.0  0.0      1.0  6904.258584\n",
       "2015-05-25   6948.0  1.0  0.0  0.0  0.0  0.0  0.0  0.0      1.0  6904.258584\n",
       "2015-07-03   9252.0  0.0  0.0  0.0  0.0  1.0  0.0  0.0      1.0  5868.646115\n",
       "2015-09-07   8020.0  1.0  0.0  0.0  0.0  0.0  0.0  0.0      1.0  6904.258584\n",
       "2015-10-12  13672.0  1.0  0.0  0.0  0.0  0.0  0.0  0.0      1.0  6904.258584\n",
       "2015-11-11  10516.0  0.0  0.0  1.0  0.0  0.0  0.0  0.0      1.0  7482.684510\n",
       "2015-11-26   2128.0  0.0  0.0  0.0  1.0  0.0  0.0  0.0      1.0  6929.109148\n",
       "2015-12-25   1056.0  0.0  0.0  0.0  0.0  1.0  0.0  0.0      1.0  5868.646115\n",
       "2016-01-01   2248.0  0.0  0.0  0.0  0.0  1.0  0.0  0.0      1.0  5868.646115"
      ]
     },
     "execution_count": 82,
     "metadata": {},
     "output_type": "execute_result"
    }
   ],
   "source": [
    "daily.query('holiday==1')"
   ]
  },
  {
   "cell_type": "code",
   "execution_count": 73,
   "id": "5d7dd6d2-3530-4224-b613-0b63ec8c42e7",
   "metadata": {},
   "outputs": [],
   "source": [
    "column_names = ['Mon', 'Tue', 'Wed', 'Thu', 'Fri', 'Sat', 'Sun', 'holiday']"
   ]
  },
  {
   "cell_type": "code",
   "execution_count": 75,
   "id": "cdd88ba6-ec6e-4ab3-a141-093cc95f78b7",
   "metadata": {},
   "outputs": [],
   "source": [
    "X = daily[column_names]\n",
    "\n",
    "y = daily['Total']\n",
    "X = daily[column_names]\n",
    "\n",
    "y = daily['Total']"
   ]
  },
  {
   "cell_type": "code",
   "execution_count": 76,
   "id": "145de2c0-093b-488d-b131-1a69684db38c",
   "metadata": {},
   "outputs": [],
   "source": [
    "model = LinearRegression(fit_intercept=False) \n",
    "model.fit(X, y)\n",
    "daily['predicted'] = model.predict(X)"
   ]
  },
  {
   "cell_type": "code",
   "execution_count": 77,
   "id": "9debdbda-4355-4d1a-97b7-136db0b9b527",
   "metadata": {},
   "outputs": [
    {
     "data": {
      "text/plain": [
       "<AxesSubplot:xlabel='Date'>"
      ]
     },
     "execution_count": 77,
     "metadata": {},
     "output_type": "execute_result"
    },
    {
     "data": {
      "image/png": "[encoded data removed]",
      "text/plain": [
       "<Figure size 432x288 with 1 Axes>"
      ]
     },
     "metadata": {
      "needs_background": "light"
     },
     "output_type": "display_data"
    }
   ],
   "source": [
    "daily[['Total', 'predicted']].plot(alpha=0.5)"
   ]
  },
  {
   "cell_type": "code",
   "execution_count": 79,
   "id": "b26eabce-762c-456d-8a90-5223bd634041",
   "metadata": {},
   "outputs": [
    {
     "data": {
      "text/plain": [
       "Mon        11044.413722\n",
       "Tue        11669.802960\n",
       "Wed        11622.839648\n",
       "Thu        11069.264286\n",
       "Fri        10008.801254\n",
       "Sat         5628.488889\n",
       "Sun         5375.450505\n",
       "holiday    -4140.155138\n",
       "dtype: float64"
      ]
     },
     "execution_count": 79,
     "metadata": {},
     "output_type": "execute_result"
    }
   ],
   "source": [
    "params = pd.Series(model.coef_, index=X.columns)\n",
    "params"
   ]
  },
  {
   "cell_type": "code",
   "execution_count": 80,
   "id": "4878f466-a7e0-44d8-8b44-c5cdd1fbfaef",
   "metadata": {},
   "outputs": [],
   "source": [
    "from sklearn.utils import resample\n",
    "\n",
    "np.random.seed(1) \n",
    "err = np.std([model.fit(*resample(X, y)).coef_ for i in range(1000)], 0)"
   ]
  },
  {
   "cell_type": "code",
   "execution_count": 81,
   "id": "f0047673-e667-413b-b789-ebbe9f89678d",
   "metadata": {},
   "outputs": [
    {
     "name": "stdout",
     "output_type": "stream",
     "text": [
      "          effect  error\n",
      "Mon      11044.0  253.0\n",
      "Tue      11670.0  272.0\n",
      "Wed      11623.0  262.0\n",
      "Thu      11069.0  260.0\n",
      "Fri      10009.0  232.0\n",
      "Sat       5628.0  136.0\n",
      "Sun       5375.0  134.0\n",
      "holiday  -4140.0  830.0\n"
     ]
    }
   ],
   "source": [
    "print(pd.DataFrame({'effect': params.round(0), 'error': err.round(0)}))"
   ]
  },
  {
   "cell_type": "code",
   "execution_count": null,
   "id": "b56ae4fc-7be2-4be7-8e22-66e95227cc8e",
   "metadata": {},
   "outputs": [],
   "source": []
  }
 ],
 "metadata": {
  "kernelspec": {
   "display_name": "Python 3 (ipykernel)",
   "language": "python",
   "name": "python3"
  },
  "language_info": {
   "codemirror_mode": {
    "name": "ipython",
    "version": 3
   },
   "file_extension": ".py",
   "mimetype": "text/x-python",
   "name": "python",
   "nbconvert_exporter": "python",
   "pygments_lexer": "ipython3",
   "version": "3.9.7"
  }
 },
 "nbformat": 4,
 "nbformat_minor": 5
}
