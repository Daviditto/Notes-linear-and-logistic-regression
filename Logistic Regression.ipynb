{
 "cells": [
  {
   "cell_type": "markdown",
   "id": "10199f25-7b4d-4c6c-91d2-56774b6c69c8",
   "metadata": {},
   "source": [
    "# Training a Binary Classifier"
   ]
  },
  {
   "cell_type": "code",
   "execution_count": 13,
   "id": "408913c2-6281-4e37-ad1d-8b290f3cbbb6",
   "metadata": {},
   "outputs": [],
   "source": [
    "from sklearn.datasets import load_iris\n",
    "from sklearn.linear_model import LogisticRegression, LogisticRegressionCV\n",
    "from sklearn.preprocessing import StandardScaler"
   ]
  },
  {
   "cell_type": "code",
   "execution_count": 17,
   "id": "015bacad-6fb1-4bfb-bf0e-0fe6466bd1bf",
   "metadata": {},
   "outputs": [],
   "source": [
    "Xi, yi = load_iris().data[:100,:], load_iris().target[:100]"
   ]
  },
  {
   "cell_type": "code",
   "execution_count": 18,
   "id": "515b7446-d781-49aa-81aa-b2d34c8f7ae9",
   "metadata": {},
   "outputs": [],
   "source": [
    "SXi = StandardScaler().fit_transform(Xi)"
   ]
  },
  {
   "cell_type": "code",
   "execution_count": 19,
   "id": "eda9768d-e39e-473b-8436-e69b9cfec22d",
   "metadata": {},
   "outputs": [],
   "source": [
    "log=LogisticRegression(penalty = 'l2', C=10)"
   ]
  },
  {
   "cell_type": "code",
   "execution_count": 20,
   "id": "d29b86df-3be1-44c0-9709-871635ee0922",
   "metadata": {},
   "outputs": [],
   "source": [
    "fitlog = log.fit(Xi,yi)"
   ]
  },
  {
   "cell_type": "code",
   "execution_count": 21,
   "id": "8621c33f-2cf0-4911-a45f-68b78efba054",
   "metadata": {},
   "outputs": [
    {
     "data": {
      "text/plain": [
       "array([0])"
      ]
     },
     "execution_count": 21,
     "metadata": {},
     "output_type": "execute_result"
    }
   ],
   "source": [
    "fitlog.predict(SXi[0].reshape(1,4))"
   ]
  },
  {
   "cell_type": "code",
   "execution_count": 26,
   "id": "3b2f2026-ac00-4091-bf1d-62a346c3662a",
   "metadata": {},
   "outputs": [
    {
     "data": {
      "text/plain": [
       "array([[9.99999756e-01, 2.43556596e-07]])"
      ]
     },
     "execution_count": 26,
     "metadata": {},
     "output_type": "execute_result"
    }
   ],
   "source": [
    "fitlog.predict_proba(SXi[0].reshape(1,4))"
   ]
  },
  {
   "cell_type": "markdown",
   "id": "025ebdea-284f-4c9b-bfc7-c2bda8e2398f",
   "metadata": {},
   "source": [
    "# Training a Multiclass Classifier"
   ]
  },
  {
   "cell_type": "code",
   "execution_count": 30,
   "id": "ba8bdeab-48ca-48c8-8503-f060a7717a1b",
   "metadata": {},
   "outputs": [],
   "source": [
    "multilog = LogisticRegression(penalty='l2', multi_class = 'ovr', C=10) # solver:'liblinear' is limited to one-versus-rest schemes."
   ]
  },
  {
   "cell_type": "code",
   "execution_count": 41,
   "id": "42e02d9b-8e17-455d-b3e8-7024ca4e1442",
   "metadata": {},
   "outputs": [],
   "source": [
    "Xn, yn = load_iris().data, load_iris().target"
   ]
  },
  {
   "cell_type": "code",
   "execution_count": 42,
   "id": "bac0ffe8-3756-4cf0-bec8-5e285cbc69a3",
   "metadata": {},
   "outputs": [],
   "source": [
    "SXn = StandardScaler().fit_transform(Xn)"
   ]
  },
  {
   "cell_type": "code",
   "execution_count": 43,
   "id": "558dcdd5-4ba2-4428-b847-f1088bed08ac",
   "metadata": {},
   "outputs": [],
   "source": [
    "ftmultilog = multilog.fit(SXn,yn)"
   ]
  },
  {
   "cell_type": "code",
   "execution_count": 44,
   "id": "bb36d105-a8a3-4320-96a5-9f3a7764855c",
   "metadata": {},
   "outputs": [
    {
     "data": {
      "text/plain": [
       "array([0, 1, 2])"
      ]
     },
     "execution_count": 44,
     "metadata": {},
     "output_type": "execute_result"
    }
   ],
   "source": [
    "ftmultilog.classes_"
   ]
  },
  {
   "cell_type": "code",
   "execution_count": 45,
   "id": "10a4d17e-a956-439b-93cc-9e4bf9528f32",
   "metadata": {},
   "outputs": [
    {
     "data": {
      "text/plain": [
       "array([[9.19423162e-01, 8.05768377e-02, 2.98696081e-11]])"
      ]
     },
     "execution_count": 45,
     "metadata": {},
     "output_type": "execute_result"
    }
   ],
   "source": [
    "ftmultilog.predict_proba(SXn[0].reshape(1,4))"
   ]
  },
  {
   "cell_type": "code",
   "execution_count": 46,
   "id": "fe6eba24-595f-4f81-a3a4-9f0ad8667c3b",
   "metadata": {},
   "outputs": [
    {
     "data": {
      "text/plain": [
       "array([0])"
      ]
     },
     "execution_count": 46,
     "metadata": {},
     "output_type": "execute_result"
    }
   ],
   "source": [
    "ftmultilog.predict(SXn[6].reshape(1,4))"
   ]
  },
  {
   "cell_type": "markdown",
   "id": "2d263da4-3221-47e6-910f-d4a27a6dbb13",
   "metadata": {},
   "source": [
    "# Reducing Variance Through Regularization"
   ]
  },
  {
   "cell_type": "code",
   "execution_count": 51,
   "id": "8a154d10-8941-4800-b885-712dcc177e53",
   "metadata": {},
   "outputs": [],
   "source": [
    "reglog = LogisticRegression(penalty = 'l2', C=5, solver='sag', multi_class='multinomial') # solver='sag', makes it faster"
   ]
  },
  {
   "cell_type": "code",
   "execution_count": 75,
   "id": "753c6beb-f9c7-4914-b5f9-36f4f821f7a4",
   "metadata": {},
   "outputs": [],
   "source": [
    "Logist = LogisticRegressionCV(Cs=100,penalty = 'l2', multi_class='multinomial')"
   ]
  },
  {
   "cell_type": "code",
   "execution_count": 76,
   "id": "38cc98d2-56cd-4200-9d11-e0b3db777042",
   "metadata": {},
   "outputs": [],
   "source": [
    "best = Logist.fit(SXn,yn)"
   ]
  },
  {
   "cell_type": "code",
   "execution_count": 77,
   "id": "99beb9c5-933f-4fe4-a53d-35522b3ad43f",
   "metadata": {},
   "outputs": [
    {
     "data": {
      "text/plain": [
       "array([5.85702082, 5.85702082, 5.85702082])"
      ]
     },
     "execution_count": 77,
     "metadata": {},
     "output_type": "execute_result"
    }
   ],
   "source": [
    "best.C_"
   ]
  },
  {
   "cell_type": "code",
   "execution_count": 78,
   "id": "b518fcfa-33da-42f0-b0c7-d26f8d4f331d",
   "metadata": {},
   "outputs": [
    {
     "data": {
      "text/plain": [
       "100"
      ]
     },
     "execution_count": 78,
     "metadata": {},
     "output_type": "execute_result"
    }
   ],
   "source": [
    "best.Cs"
   ]
  },
  {
   "cell_type": "code",
   "execution_count": 79,
   "id": "a919a3d2-c960-4e4b-91d9-b4aabd393e0f",
   "metadata": {},
   "outputs": [
    {
     "data": {
      "text/plain": [
       "array([0])"
      ]
     },
     "execution_count": 79,
     "metadata": {},
     "output_type": "execute_result"
    }
   ],
   "source": [
    "best.predict(SXn[6].reshape(1,4))"
   ]
  },
  {
   "cell_type": "markdown",
   "id": "d105d08e-f04d-42ba-9f4d-ffab409dba54",
   "metadata": {},
   "source": [
    "# Handling Imbalanced Classes"
   ]
  },
  {
   "cell_type": "code",
   "execution_count": 82,
   "id": "42e773ab-0828-40b0-9e65-18ec59474832",
   "metadata": {},
   "outputs": [],
   "source": [
    "import numpy as np"
   ]
  },
  {
   "cell_type": "code",
   "execution_count": 83,
   "id": "22e5bb54-a2c1-4112-9b5a-38ff94d2a56e",
   "metadata": {},
   "outputs": [],
   "source": [
    "Ximbal,yimbal = load_iris().data[40:,:], load_iris().target[40:]"
   ]
  },
  {
   "cell_type": "code",
   "execution_count": 89,
   "id": "49de199d-7407-4876-acc1-086f3faf83a9",
   "metadata": {},
   "outputs": [
    {
     "data": {
      "text/plain": [
       "array([0, 0, 0, 0, 0, 0, 0, 0, 0, 0, 1, 1, 1, 1, 1, 1, 1, 1, 1, 1, 1, 1,\n",
       "       1, 1, 1, 1, 1, 1, 1, 1, 1, 1, 1, 1, 1, 1, 1, 1, 1, 1, 1, 1, 1, 1,\n",
       "       1, 1, 1, 1, 1, 1, 1, 1, 1, 1, 1, 1, 1, 1, 1, 1, 1, 1, 1, 1, 1, 1,\n",
       "       1, 1, 1, 1, 1, 1, 1, 1, 1, 1, 1, 1, 1, 1, 1, 1, 1, 1, 1, 1, 1, 1,\n",
       "       1, 1, 1, 1, 1, 1, 1, 1, 1, 1, 1, 1, 1, 1, 1, 1, 1, 1, 1, 1, 1, 1])"
      ]
     },
     "execution_count": 89,
     "metadata": {},
     "output_type": "execute_result"
    }
   ],
   "source": [
    "yi_new = np.where((yimbal==0), 0, 1)\n",
    "yi_new"
   ]
  },
  {
   "cell_type": "code",
   "execution_count": 105,
   "id": "992570ce-bbfd-4ad5-938f-9ec9d4c4eeb9",
   "metadata": {},
   "outputs": [],
   "source": [
    "ml = LogisticRegression(penalty='l2', C=5, class_weight='balanced', solver='sag')"
   ]
  },
  {
   "cell_type": "code",
   "execution_count": 106,
   "id": "7d11dc45-a561-4050-8581-07364b479901",
   "metadata": {},
   "outputs": [
    {
     "name": "stderr",
     "output_type": "stream",
     "text": [
      "/Users/david/opt/anaconda3/lib/python3.9/site-packages/sklearn/linear_model/_sag.py:328: ConvergenceWarning: The max_iter was reached which means the coef_ did not converge\n",
      "  warnings.warn(\"The max_iter was reached which means \"\n"
     ]
    }
   ],
   "source": [
    "tfml = ml.fit(Ximbal,yi_new)"
   ]
  },
  {
   "cell_type": "code",
   "execution_count": 107,
   "id": "f803d991-03f3-4e65-8f8b-7691eceb85f9",
   "metadata": {},
   "outputs": [
    {
     "data": {
      "text/plain": [
       "array([0])"
      ]
     },
     "execution_count": 107,
     "metadata": {},
     "output_type": "execute_result"
    }
   ],
   "source": [
    "tfml.predict(Ximbal[0].reshape(1,4))"
   ]
  },
  {
   "cell_type": "code",
   "execution_count": 108,
   "id": "9ccd983d-a618-4440-8098-4afc6aeef794",
   "metadata": {},
   "outputs": [
    {
     "data": {
      "text/plain": [
       "array([[0.01224957, 0.98775043]])"
      ]
     },
     "execution_count": 108,
     "metadata": {},
     "output_type": "execute_result"
    }
   ],
   "source": [
    "tfml.predict_proba(Ximbal[40].reshape(1,4))"
   ]
  },
  {
   "cell_type": "code",
   "execution_count": null,
   "id": "a1be3082-d061-44fb-bc20-d34f21c052f3",
   "metadata": {},
   "outputs": [],
   "source": []
  },
  {
   "cell_type": "code",
   "execution_count": null,
   "id": "990da7a0-6cfc-44de-a052-57ea53c67f3e",
   "metadata": {},
   "outputs": [],
   "source": []
  },
  {
   "cell_type": "code",
   "execution_count": null,
   "id": "30fe3998-b627-4c55-904a-e7536bc052ee",
   "metadata": {},
   "outputs": [],
   "source": []
  }
 ],
 "metadata": {
  "kernelspec": {
   "display_name": "Python 3 (ipykernel)",
   "language": "python",
   "name": "python3"
  },
  "language_info": {
   "codemirror_mode": {
    "name": "ipython",
    "version": 3
   },
   "file_extension": ".py",
   "mimetype": "text/x-python",
   "name": "python",
   "nbconvert_exporter": "python",
   "pygments_lexer": "ipython3",
   "version": "3.9.7"
  }
 },
 "nbformat": 4,
 "nbformat_minor": 5
}
