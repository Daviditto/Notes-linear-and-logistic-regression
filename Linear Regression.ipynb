{
 "cells": [
  {
   "cell_type": "markdown",
   "id": "df19ebbe-16b7-4f8b-b1d2-d5382d221969",
   "metadata": {},
   "source": [
    "# Fitting a Line"
   ]
  },
  {
   "cell_type": "code",
   "execution_count": 1,
   "id": "e00cab23-0e6e-4101-8efe-3b51e81a8226",
   "metadata": {},
   "outputs": [],
   "source": [
    "from sklearn.linear_model import LinearRegression\n",
    "from sklearn.datasets import load_boston"
   ]
  },
  {
   "cell_type": "code",
   "execution_count": 8,
   "id": "85a6b1db-e0a2-4121-b57c-4c892f87e246",
   "metadata": {},
   "outputs": [
    {
     "data": {
      "text/plain": [
       "(506, 13)"
      ]
     },
     "execution_count": 8,
     "metadata": {},
     "output_type": "execute_result"
    }
   ],
   "source": [
    "boston = load_boston()\n",
    "boston.data.shape"
   ]
  },
  {
   "cell_type": "code",
   "execution_count": 3,
   "id": "9399acd9-47e3-4b42-968b-b5fb591731fb",
   "metadata": {},
   "outputs": [],
   "source": [
    "linear = LinearRegression()"
   ]
  },
  {
   "cell_type": "code",
   "execution_count": 4,
   "id": "39a3355c-e40b-423f-815e-0477ef7a664c",
   "metadata": {},
   "outputs": [
    {
     "data": {
      "text/plain": [
       "LinearRegression()"
      ]
     },
     "execution_count": 4,
     "metadata": {},
     "output_type": "execute_result"
    }
   ],
   "source": [
    "linear.fit(boston.data, boston.target)"
   ]
  },
  {
   "cell_type": "code",
   "execution_count": 5,
   "id": "dedebcfe-5fa5-45f6-bde0-7ee0f51381be",
   "metadata": {},
   "outputs": [
    {
     "data": {
      "text/plain": [
       "36.459488385089855"
      ]
     },
     "execution_count": 5,
     "metadata": {},
     "output_type": "execute_result"
    }
   ],
   "source": [
    "linear.intercept_"
   ]
  },
  {
   "cell_type": "code",
   "execution_count": 15,
   "id": "c20cd3a7-e718-444b-8d28-9079a17ded32",
   "metadata": {},
   "outputs": [
    {
     "data": {
      "text/plain": [
       "-0.10801135783679539"
      ]
     },
     "execution_count": 15,
     "metadata": {},
     "output_type": "execute_result"
    }
   ],
   "source": [
    "linear.coef_[0]"
   ]
  },
  {
   "cell_type": "code",
   "execution_count": 10,
   "id": "12a363ef-c7fb-4b94-9adf-63078be2bdaa",
   "metadata": {},
   "outputs": [
    {
     "data": {
      "text/plain": [
       "30.003843377016818"
      ]
     },
     "execution_count": 10,
     "metadata": {},
     "output_type": "execute_result"
    }
   ],
   "source": [
    "linear.predict(boston.data)[0]"
   ]
  },
  {
   "cell_type": "code",
   "execution_count": 12,
   "id": "31bc283d-3234-4c5a-b0aa-87404f18d224",
   "metadata": {},
   "outputs": [
    {
     "data": {
      "text/plain": [
       "24.0"
      ]
     },
     "execution_count": 12,
     "metadata": {},
     "output_type": "execute_result"
    }
   ],
   "source": [
    "boston.target[0]"
   ]
  },
  {
   "cell_type": "markdown",
   "id": "823705bd-74cf-4b79-943f-9726a78381a7",
   "metadata": {},
   "source": [
    "# Handling Interactive Effects"
   ]
  },
  {
   "cell_type": "code",
   "execution_count": 28,
   "id": "df2f4c8f-e103-4704-bdc9-73783db0a954",
   "metadata": {},
   "outputs": [],
   "source": [
    "from sklearn.preprocessing import PolynomialFeatures\n",
    "from sklearn.pipeline import make_pipeline"
   ]
  },
  {
   "cell_type": "code",
   "execution_count": 27,
   "id": "7a3b90b5-55a8-4f6a-9726-8b7230c91cd1",
   "metadata": {},
   "outputs": [],
   "source": [
    "poly = PolynomialFeatures(degree=3, interaction_only=True, include_bias=False)"
   ]
  },
  {
   "cell_type": "code",
   "execution_count": 37,
   "id": "0e433811-6b6d-4b1d-9867-40dbf6452c18",
   "metadata": {},
   "outputs": [
    {
     "data": {
      "text/plain": [
       "0.00632"
      ]
     },
     "execution_count": 37,
     "metadata": {},
     "output_type": "execute_result"
    }
   ],
   "source": [
    "boston.data[0,0]"
   ]
  },
  {
   "cell_type": "code",
   "execution_count": 38,
   "id": "7fe557bd-92ed-414c-bf46-5a95363b270a",
   "metadata": {},
   "outputs": [
    {
     "data": {
      "text/plain": [
       "18.0"
      ]
     },
     "execution_count": 38,
     "metadata": {},
     "output_type": "execute_result"
    }
   ],
   "source": [
    "boston.data[0,1]"
   ]
  },
  {
   "cell_type": "code",
   "execution_count": 36,
   "id": "8d47256d-351d-4ef6-a4b2-d2cc4104c549",
   "metadata": {},
   "outputs": [
    {
     "data": {
      "text/plain": [
       "0.11376"
      ]
     },
     "execution_count": 36,
     "metadata": {},
     "output_type": "execute_result"
    }
   ],
   "source": [
    "boston.data[0,0] * boston.data[0,1]"
   ]
  },
  {
   "cell_type": "code",
   "execution_count": 39,
   "id": "ee81d517-5012-4856-96ac-9ec4fae92c96",
   "metadata": {},
   "outputs": [
    {
     "data": {
      "text/plain": [
       "array([6.3200e-03, 1.8000e+01, 1.1376e-01])"
      ]
     },
     "execution_count": 39,
     "metadata": {},
     "output_type": "execute_result"
    }
   ],
   "source": [
    "poly.fit_transform(boston.data[:, 0:2])[0]"
   ]
  },
  {
   "cell_type": "code",
   "execution_count": 30,
   "id": "28e4a490-a03b-476b-9ffb-5fd613c73582",
   "metadata": {},
   "outputs": [],
   "source": [
    "pipe = make_pipeline(poly, LinearRegression())"
   ]
  },
  {
   "cell_type": "code",
   "execution_count": 31,
   "id": "7798fe1f-fc0b-44f6-bbcf-4731e31d940f",
   "metadata": {},
   "outputs": [
    {
     "data": {
      "text/plain": [
       "Pipeline(steps=[('polynomialfeatures',\n",
       "                 PolynomialFeatures(degree=3, include_bias=False,\n",
       "                                    interaction_only=True)),\n",
       "                ('linearregression', LinearRegression())])"
      ]
     },
     "execution_count": 31,
     "metadata": {},
     "output_type": "execute_result"
    }
   ],
   "source": [
    "pipe.fit(boston.data[:,0:2],boston.target)"
   ]
  },
  {
   "cell_type": "markdown",
   "id": "6636388d-2b95-420e-bb77-e404cd31e961",
   "metadata": {},
   "source": [
    "# Fitting a Nonlinear Relationship"
   ]
  },
  {
   "cell_type": "code",
   "execution_count": 40,
   "id": "7d5088ea-5eff-40ae-a470-fc3b961ae6b0",
   "metadata": {},
   "outputs": [],
   "source": [
    "features, target = boston.data, boston.target"
   ]
  },
  {
   "cell_type": "code",
   "execution_count": 57,
   "id": "b8e0d5b1-1b3f-4b36-84aa-c4073ac4fd1e",
   "metadata": {},
   "outputs": [],
   "source": [
    "features_polynomial = PolynomialFeatures(degree=3, include_bias=False).fit_transform(features[:,0:1])"
   ]
  },
  {
   "cell_type": "code",
   "execution_count": 58,
   "id": "bd953bce-2400-4648-8659-107d929a402c",
   "metadata": {},
   "outputs": [
    {
     "data": {
      "text/plain": [
       "0.00632"
      ]
     },
     "execution_count": 58,
     "metadata": {},
     "output_type": "execute_result"
    }
   ],
   "source": [
    "features[0,0]"
   ]
  },
  {
   "cell_type": "code",
   "execution_count": 59,
   "id": "5c7b98a0-46fd-4eee-9ccf-1a53f61b72b8",
   "metadata": {},
   "outputs": [
    {
     "data": {
      "text/plain": [
       "3.99424e-05"
      ]
     },
     "execution_count": 59,
     "metadata": {},
     "output_type": "execute_result"
    }
   ],
   "source": [
    "features[0,0]**2"
   ]
  },
  {
   "cell_type": "code",
   "execution_count": 60,
   "id": "158d4d4f-a993-4a83-a395-894ee023a5c3",
   "metadata": {},
   "outputs": [
    {
     "data": {
      "text/plain": [
       "2.52435968e-07"
      ]
     },
     "execution_count": 60,
     "metadata": {},
     "output_type": "execute_result"
    }
   ],
   "source": [
    "features[0,0]**3"
   ]
  },
  {
   "cell_type": "code",
   "execution_count": 66,
   "id": "ea5f6f85-5751-4cea-9731-a3e7d5e1d689",
   "metadata": {},
   "outputs": [
    {
     "data": {
      "text/plain": [
       "array([6.32000000e-03, 3.99424000e-05, 2.52435968e-07])"
      ]
     },
     "execution_count": 66,
     "metadata": {},
     "output_type": "execute_result"
    }
   ],
   "source": [
    "features_polynomial[0,:]"
   ]
  },
  {
   "cell_type": "code",
   "execution_count": 67,
   "id": "c2942792-807a-4102-ba92-80c92648362f",
   "metadata": {},
   "outputs": [
    {
     "data": {
      "text/plain": [
       "LinearRegression()"
      ]
     },
     "execution_count": 67,
     "metadata": {},
     "output_type": "execute_result"
    }
   ],
   "source": [
    "linear.fit(features_polynomial,target)"
   ]
  },
  {
   "cell_type": "markdown",
   "id": "dc8b52f1-793d-4e41-a69f-46c420f6d5f4",
   "metadata": {},
   "source": [
    "# Reducing Variance with Regularization"
   ]
  },
  {
   "cell_type": "code",
   "execution_count": 69,
   "id": "500ea9e3-13e0-4667-83d5-fbde068bb766",
   "metadata": {},
   "outputs": [],
   "source": [
    "from sklearn.preprocessing import StandardScaler\n",
    "from sklearn.linear_model import Lasso, Ridge"
   ]
  },
  {
   "cell_type": "code",
   "execution_count": 71,
   "id": "a4b4596a-61f0-42b8-a2cf-a3b9d4685ad9",
   "metadata": {},
   "outputs": [],
   "source": [
    "scaler = StandardScaler()\n",
    "scaled_features = scaler.fit_transform(features)"
   ]
  },
  {
   "cell_type": "code",
   "execution_count": 72,
   "id": "c5df9200-7fb1-4c08-84e3-555a7babcd4f",
   "metadata": {},
   "outputs": [],
   "source": [
    "ridge = Ridge(alpha=0.5)"
   ]
  },
  {
   "cell_type": "code",
   "execution_count": 73,
   "id": "48c78dd3-0b94-4849-b637-8012f78d81f2",
   "metadata": {},
   "outputs": [
    {
     "data": {
      "text/plain": [
       "Ridge(alpha=0.5)"
      ]
     },
     "execution_count": 73,
     "metadata": {},
     "output_type": "execute_result"
    }
   ],
   "source": [
    "ridge.fit(scaled_features, target)"
   ]
  },
  {
   "cell_type": "code",
   "execution_count": 74,
   "id": "80d84a15-30f4-4afe-9b51-72b2f5ade1f5",
   "metadata": {},
   "outputs": [
    {
     "data": {
      "text/plain": [
       "array([-0.92396151,  1.07393055,  0.12895159,  0.68346136, -2.0427575 ,\n",
       "        2.67854971,  0.01627328, -3.09063352,  2.62636926, -2.04312573,\n",
       "       -2.05646414,  0.8490591 , -3.73711409])"
      ]
     },
     "execution_count": 74,
     "metadata": {},
     "output_type": "execute_result"
    }
   ],
   "source": [
    "ridge.coef_"
   ]
  },
  {
   "cell_type": "code",
   "execution_count": 75,
   "id": "d0676f18-4f3d-4d56-be2f-25908d2c771b",
   "metadata": {},
   "outputs": [
    {
     "data": {
      "text/plain": [
       "22.532806324110688"
      ]
     },
     "execution_count": 75,
     "metadata": {},
     "output_type": "execute_result"
    }
   ],
   "source": [
    "ridge.intercept_"
   ]
  },
  {
   "cell_type": "markdown",
   "id": "1b5a04ed-d648-48af-8546-01bbfe8c4aaa",
   "metadata": {},
   "source": [
    "### RidgeCV"
   ]
  },
  {
   "cell_type": "code",
   "execution_count": 112,
   "id": "07e01249-194e-499f-81d0-102b915b2f57",
   "metadata": {},
   "outputs": [],
   "source": [
    "from sklearn.linear_model import RidgeCV"
   ]
  },
  {
   "cell_type": "code",
   "execution_count": 113,
   "id": "8f0d6135-924f-441d-9d8e-656495633749",
   "metadata": {},
   "outputs": [],
   "source": [
    "CV = RidgeCV(alphas=[0.1, 1.0, 10.0])"
   ]
  },
  {
   "cell_type": "code",
   "execution_count": 114,
   "id": "39def61d-2fda-4be7-8ca6-e12a5f81de17",
   "metadata": {},
   "outputs": [],
   "source": [
    "best = CV.fit(scaled_features, target)"
   ]
  },
  {
   "cell_type": "code",
   "execution_count": 115,
   "id": "67319f41-555a-4395-8f2a-8994b4ac2646",
   "metadata": {},
   "outputs": [
    {
     "data": {
      "text/plain": [
       "1.0"
      ]
     },
     "execution_count": 115,
     "metadata": {},
     "output_type": "execute_result"
    }
   ],
   "source": [
    "best.alpha_"
   ]
  },
  {
   "cell_type": "code",
   "execution_count": 117,
   "id": "8acdebb6-931a-43af-94cd-1eb822f44d00",
   "metadata": {},
   "outputs": [
    {
     "data": {
      "text/plain": [
       "-23.718112644972553"
      ]
     },
     "execution_count": 117,
     "metadata": {},
     "output_type": "execute_result"
    }
   ],
   "source": [
    "best.best_score_"
   ]
  },
  {
   "cell_type": "markdown",
   "id": "7ec76eca-636f-484e-b8f9-495792b30dfb",
   "metadata": {},
   "source": [
    "# Reducing Features with Lasso Regression"
   ]
  },
  {
   "cell_type": "code",
   "execution_count": 102,
   "id": "71052377-4af1-48c1-b752-81e47a104ebe",
   "metadata": {},
   "outputs": [],
   "source": [
    "lasso = Lasso(alpha=0.5)"
   ]
  },
  {
   "cell_type": "code",
   "execution_count": 103,
   "id": "12717df6-b3dc-40a3-b6e4-a48eb2f99017",
   "metadata": {},
   "outputs": [
    {
     "data": {
      "text/plain": [
       "Lasso(alpha=0.5)"
      ]
     },
     "execution_count": 103,
     "metadata": {},
     "output_type": "execute_result"
    }
   ],
   "source": [
    "lasso.fit(scaled_features, target)"
   ]
  },
  {
   "cell_type": "code",
   "execution_count": 104,
   "id": "8221b14d-2dc0-4109-aeb7-b2d5d1168ef1",
   "metadata": {},
   "outputs": [
    {
     "data": {
      "text/plain": [
       "array([-0.11526463,  0.        , -0.        ,  0.39707879, -0.        ,\n",
       "        2.97425861, -0.        , -0.17056942, -0.        , -0.        ,\n",
       "       -1.59844856,  0.54313871, -3.66614361])"
      ]
     },
     "execution_count": 104,
     "metadata": {},
     "output_type": "execute_result"
    }
   ],
   "source": [
    "lasso.coef_"
   ]
  },
  {
   "cell_type": "code",
   "execution_count": null,
   "id": "40323392-786c-452c-b3ac-c4cc30ae1265",
   "metadata": {},
   "outputs": [],
   "source": []
  },
  {
   "cell_type": "code",
   "execution_count": 106,
   "id": "1844441b-208d-4f9a-afe3-fedc483b86cc",
   "metadata": {},
   "outputs": [],
   "source": [
    "lasso1 = Lasso(alpha=10)"
   ]
  },
  {
   "cell_type": "code",
   "execution_count": 109,
   "id": "ac45de8c-c345-451e-a0d9-2e2a5ba1192e",
   "metadata": {},
   "outputs": [
    {
     "data": {
      "text/plain": [
       "array([-0.,  0., -0.,  0., -0.,  0., -0.,  0., -0., -0., -0.,  0., -0.])"
      ]
     },
     "execution_count": 109,
     "metadata": {},
     "output_type": "execute_result"
    }
   ],
   "source": [
    "lasso1.fit(scaled_features, target).coef_"
   ]
  },
  {
   "cell_type": "code",
   "execution_count": 110,
   "id": "b89ce15f-24a1-4046-963f-002668ddd598",
   "metadata": {},
   "outputs": [
    {
     "data": {
      "text/plain": [
       "22.532806324110677"
      ]
     },
     "execution_count": 110,
     "metadata": {},
     "output_type": "execute_result"
    }
   ],
   "source": [
    "lasso1.intercept_"
   ]
  },
  {
   "cell_type": "code",
   "execution_count": null,
   "id": "6eb78e5c-5610-4de7-9b10-71bd8d7d06d7",
   "metadata": {},
   "outputs": [],
   "source": []
  }
 ],
 "metadata": {
  "kernelspec": {
   "display_name": "Python 3 (ipykernel)",
   "language": "python",
   "name": "python3"
  },
  "language_info": {
   "codemirror_mode": {
    "name": "ipython",
    "version": 3
   },
   "file_extension": ".py",
   "mimetype": "text/x-python",
   "name": "python",
   "nbconvert_exporter": "python",
   "pygments_lexer": "ipython3",
   "version": "3.9.7"
  }
 },
 "nbformat": 4,
 "nbformat_minor": 5
}
